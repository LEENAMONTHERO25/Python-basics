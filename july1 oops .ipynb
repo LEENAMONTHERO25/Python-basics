{
 "cells": [
  {
   "cell_type": "markdown",
   "id": "cc5d4238",
   "metadata": {},
   "source": [
    "1.primary goal  of Object Oriented Programming is to create more organized , modular and flexible code structures, making it easier to develop ,test and maintain the python programs"
   ]
  },
  {
   "cell_type": "markdown",
   "id": "6e828346",
   "metadata": {},
   "source": [
    "2.In Python, an object is a specific instance of a class. A class serves as a blueprint or template that defines the structure and behavior of objects. When we create an object, we are creating an instance of that class, and each instance has its own set of attributes (variables) and methods (functions) defined by the class."
   ]
  },
  {
   "cell_type": "markdown",
   "id": "eac4a0b8",
   "metadata": {},
   "source": [
    "3.In Python, a class is a blueprint or a template for creating objects. It provides a structure for defining the attributes and methods that objects of that class should have. An object is an instance of a class, and we can create multiple objects based on the same class."
   ]
  },
  {
   "cell_type": "markdown",
   "id": "64bd6fe1",
   "metadata": {},
   "source": [
    "4.Attributes are variables that hold data associated with an object. They represent the state or characteristics of an object. For example, in a class representing a car, attributes could include the car's color, model, year, and current speed. Each instance of the class (object) can have its own set of attribute values.\n",
    "\n",
    "Methods are functions that define the behavior of an object can perform. They are associated with the class and operate on the object's attributes. Methods can modify the state of an object or provide information about it. In the above car example, methods could include \"accelerate,\" \"brake,\" or \"getSpeed.\""
   ]
  },
  {
   "cell_type": "markdown",
   "id": "0585b2f7",
   "metadata": {},
   "source": [
    "5.Class variables are variables that are shared among all instances of a class. They are defined within the class but outside of any instance methods. Class variables have the same value for every object or instance of the class.\n",
    "Instance variables are unique to each instance of a class. They are defined within the instance methods or the constructor (__init__) of the class. Each instance of the class has its own copy of instance variables, which can have different values for each object. "
   ]
  },
  {
   "cell_type": "markdown",
   "id": "9826bf21",
   "metadata": {},
   "source": [
    "6.The purpose of the self parameter is to enable access to the attributes and methods of the instance within the class. By convention, the self parameter is named self, but we can choose any valid variable name. "
   ]
  },
  {
   "cell_type": "markdown",
   "id": "49d0107f",
   "metadata": {},
   "source": [
    "7"
   ]
  },
  {
   "cell_type": "code",
   "execution_count": 16,
   "id": "dbfaace8",
   "metadata": {},
   "outputs": [
    {
     "name": "stdout",
     "output_type": "stream",
     "text": [
      "Book Information:\n",
      "Title: Wings of Fire\n",
      "Author: A.P.J. Abdul Kalam\n",
      "ISBN: 10011\n",
      "Publication Year: 1999\n",
      "Available Copies: 20\n",
      "\n",
      "5 copy of 'Wings of Fire' has been checked out.\n",
      "2 copy of 'Wings of Fire' has been returned.\n",
      "Book Information:\n",
      "Title: Wings of Fire\n",
      "Author: A.P.J. Abdul Kalam\n",
      "ISBN: 10011\n",
      "Publication Year: 1999\n",
      "Available Copies: 17\n"
     ]
    }
   ],
   "source": [
    "class Book:\n",
    "    def __init__(self,title,author,isbn,publication_year,available_copies):\n",
    "        self.title=title\n",
    "        self.author=author\n",
    "        self.isbn=isbn\n",
    "        self.publication_year=publication_year\n",
    "        self.available_copies=available_copies\n",
    "        \n",
    "    def check_out(self,check_out):\n",
    "        if self.available_copies > 0:\n",
    "            self.available_copies=self.available_copies-check_out\n",
    "            print(f\"{check_out} copy of '{self.title}' has been checked out.\")\n",
    "        else:\n",
    "            print(f\"No copies of '{self.title}' are currently available.\")\n",
    "\n",
    "    def return_book(self,return_book):\n",
    "        self.available_copies = self.available_copies + return_book\n",
    "        print(f\"{return_book} copy of '{self.title}' has been returned.\")\n",
    "\n",
    "    def display_book_info(self):\n",
    "        print(\"Book Information:\")\n",
    "        print(f\"Title: {self.title}\")\n",
    "        print(f\"Author: {self.author}\")\n",
    "        print(f\"ISBN: {self.isbn}\")\n",
    "        print(f\"Publication Year: {self.publication_year}\")\n",
    "        print(f\"Available Copies: {self.available_copies}\")\n",
    "\n",
    "\n",
    "\n",
    "book1 = Book(\"Wings of Fire\", \"A.P.J. Abdul Kalam\", \"10011\", 1999, 20)\n",
    "book1.display_book_info()\n",
    "print()\n",
    "book1.check_out(5)\n",
    "book1.return_book(2)\n",
    "book1.display_book_info()\n",
    "            \n",
    "        "
   ]
  },
  {
   "cell_type": "markdown",
   "id": "3536aec6",
   "metadata": {},
   "source": [
    "8."
   ]
  },
  {
   "cell_type": "code",
   "execution_count": 15,
   "id": "36eb5edf",
   "metadata": {},
   "outputs": [
    {
     "name": "stdout",
     "output_type": "stream",
     "text": [
      "Ticket 1 has been reserved.\n",
      "Ticket Information:\n",
      "Ticket ID: 1\n",
      "Event Name: Concert\n",
      "Event Date: 2023-07-20\n",
      "Venue: Music Hall\n",
      "Seat Number: A12\n",
      "Price: 50.0\n",
      "Reservation Status: \n",
      "reserved\n",
      "\n",
      "Reservation of ticket 1 has been canceled.\n",
      "Ticket Information:\n",
      "Ticket ID: 1\n",
      "Event Name: Concert\n",
      "Event Date: 2023-07-20\n",
      "Venue: Music Hall\n",
      "Seat Number: A12\n",
      "Price: 50.0\n",
      "Reservation Status: \n",
      "not reserved\n"
     ]
    }
   ],
   "source": [
    "class Ticket:\n",
    "    def __init__(self, ticket_id, event_name, event_date, venue, seat_number, price,is_reserved):    #constructor\n",
    "        self.ticket_id = ticket_id\n",
    "        self.event_name = event_name\n",
    "        self.event_date = event_date\n",
    "        self.venue = venue\n",
    "        self.seat_number = seat_number\n",
    "        self.price = price\n",
    "        self.is_reserved = is_reserved\n",
    "\n",
    "    def reserve_ticket(self):  # method\n",
    "        \n",
    "        \n",
    "        if self.is_reserved == True:\n",
    "            print(f\"Ticket {self.ticket_id} has been reserved.\")\n",
    "        else:\n",
    "            \n",
    "            print(f\"Ticket {self.ticket_id} is already reserved.\")\n",
    "\n",
    "    def cancel_reservation(self):\n",
    "        \n",
    "        if self.is_reserved == False:\n",
    "            print(f\"Reservation of ticket {self.ticket_id} has been canceled.\")\n",
    "        else:\n",
    "            print(f\"Ticket {self.ticket_id} is not reserved.\")\n",
    "\n",
    "    def display_ticket_info(self):\n",
    "        print(\"Ticket Information:\")\n",
    "        print(f\"Ticket ID: {self.ticket_id}\")\n",
    "        print(f\"Event Name: {self.event_name}\")\n",
    "        print(f\"Event Date: {self.event_date}\")\n",
    "        print(f\"Venue: {self.venue}\")\n",
    "        print(f\"Seat Number: {self.seat_number}\")\n",
    "        print(f\"Price: {self.price}\")\n",
    "        print(\"Reservation Status: \")\n",
    "        if (self.is_reserved)==True:\n",
    "            \n",
    "            print(\"reserved\")\n",
    "        else:\n",
    "            print(\"not reserved\")\n",
    "                                       \n",
    "\n",
    "\n",
    "#  create a object\n",
    "ticket1 = Ticket(1, \"Concert\", \"2023-07-20\", \"Music Hall\", \"A12\", 50.0,True)\n",
    "ticket2 = Ticket(1, \"Concert\", \"2023-07-20\", \"Music Hall\", \"A12\", 50.0,False)\n",
    "\n",
    "\n",
    "ticket1.reserve_ticket()\n",
    "ticket1.display_ticket_info()\n",
    "print()\n",
    "\n",
    "ticket2.cancel_reservation()\n",
    "ticket2.display_ticket_info()\n"
   ]
  },
  {
   "cell_type": "markdown",
   "id": "b44c202d",
   "metadata": {},
   "source": [
    "9."
   ]
  },
  {
   "cell_type": "code",
   "execution_count": 40,
   "id": "471de0df",
   "metadata": {},
   "outputs": [
    {
     "name": "stdout",
     "output_type": "stream",
     "text": [
      "Item 'top' added to the cart.\n",
      "Item 'bag' added to the cart.\n",
      "Item 'jeans' added to the cart.\n",
      "Item 'cream' added to the cart.\n",
      "Item 'mobile' added to the cart.\n",
      "\n",
      "items in the cart are: ['top', 'bag', 'jeans', 'cream', 'mobile']\n",
      "Item 'bag' removed from the cart.\n",
      "items in the cart are: ['top', 'jeans', 'cream', 'mobile']\n",
      "The cart has been cleared.\n",
      "items in the cart are: []\n"
     ]
    }
   ],
   "source": [
    "class ShoppingCart:\n",
    "    def __init__(self):\n",
    "        self.item = []\n",
    "\n",
    "    def add_item(self, item):\n",
    "        self.item.append(item)\n",
    "        print(f\"Item '{item}' added to the cart.\")\n",
    "\n",
    "    def remove_item(self, item):\n",
    "        if item in self.item:\n",
    "            self.item.remove(item)\n",
    "            print(f\"Item '{item}' removed from the cart.\")\n",
    "        else:\n",
    "            print(f\"Item '{item}' is not present in the cart.\")\n",
    "\n",
    "    def view_cart(self):\n",
    "         print(\"items in the cart are:\",self.item)\n",
    "       \n",
    "    def clear_cart(self):\n",
    "        self.item = []\n",
    "        print(\"The cart has been cleared.\")\n",
    "#create a object        \n",
    "cart1=ShoppingCart()\n",
    "cart1.add_item(\"top\")\n",
    "cart1.add_item(\"bag\")\n",
    "cart1.add_item(\"jeans\")\n",
    "cart1.add_item(\"cream\")\n",
    "cart1.add_item(\"mobile\")\n",
    "print()\n",
    "cart1.view_cart()\n",
    "cart1.remove_item(\"bag\")\n",
    "cart1.view_cart()\n",
    "cart1.clear_cart()\n",
    "cart1.view_cart()\n",
    "                  \n",
    "                  \n"
   ]
  },
  {
   "cell_type": "markdown",
   "id": "3f9ebbe9",
   "metadata": {},
   "source": [
    "10."
   ]
  },
  {
   "cell_type": "code",
   "execution_count": 13,
   "id": "14c3f384",
   "metadata": {},
   "outputs": [
    {
     "name": "stdout",
     "output_type": "stream",
     "text": [
      "student information:\n",
      "student name : reena\n",
      "age : 15\n",
      "grade: 10th Grade\n",
      "student_id: 123456\n",
      "Attendance Record: {'2023-06-01': 'present', '2023-06-02': 'absent', '2023-06-03': 'present'}\n",
      "Average Attendance: 66.66666666666666\n"
     ]
    }
   ],
   "source": [
    "class Student:\n",
    "    def __init__(self, name, age, grade, student_id):\n",
    "        self.name = name\n",
    "        self.age = age\n",
    "        self.grade = grade\n",
    "        self.student_id = student_id\n",
    "        self.attendance = {}\n",
    "\n",
    "    def update_attendance(self, date, status):\n",
    "        self.attendance[date] = status\n",
    "\n",
    "    def get_attendance(self):\n",
    "        return self.attendance\n",
    "\n",
    "    def get_average_attendance(self):\n",
    "        total_days = len(self.attendance)\n",
    "        if total_days == 0:\n",
    "            return 0\n",
    "\n",
    "        present_days = sum(status == 'present' for status in self.attendance.values())\n",
    "        attendance_percentage = (present_days / total_days) * 100\n",
    "        return attendance_percentage\n",
    "    def display_info(self):\n",
    "        print(\"student information:\")\n",
    "        print(f\"student name : {self.name}\")\n",
    "        print(f\"age : {self.age}\")\n",
    "        print(f\"grade: {self.grade}\")\n",
    "        print(f\"student_id: {self.student_id}\")\n",
    "    \n",
    "# Create a student object\n",
    "student1 = Student(\"reena\", 15, \"10th Grade\", \"123456\")\n",
    "student1.display_info()\n",
    "\n",
    "\n",
    "# Update attendance\n",
    "student1.update_attendance(\"2023-06-01\", \"present\")\n",
    "student1.update_attendance(\"2023-06-02\", \"absent\")\n",
    "student1.update_attendance(\"2023-06-03\", \"present\")\n",
    "\n",
    "# Get attendance record\n",
    "attendance_record = student1.get_attendance()\n",
    "print(\"Attendance Record:\", attendance_record)\n",
    "\n",
    "# Get average attendance percentage\n",
    "average_attendance = student1.get_average_attendance()\n",
    "print(\"Average Attendance:\", average_attendance)\n",
    "\n",
    "    \n",
    "    \n"
   ]
  },
  {
   "cell_type": "code",
   "execution_count": null,
   "id": "f2d8fa4a",
   "metadata": {},
   "outputs": [],
   "source": []
  },
  {
   "cell_type": "code",
   "execution_count": null,
   "id": "3cfe80b5",
   "metadata": {},
   "outputs": [],
   "source": []
  }
 ],
 "metadata": {
  "kernelspec": {
   "display_name": "Python 3 (ipykernel)",
   "language": "python",
   "name": "python3"
  },
  "language_info": {
   "codemirror_mode": {
    "name": "ipython",
    "version": 3
   },
   "file_extension": ".py",
   "mimetype": "text/x-python",
   "name": "python",
   "nbconvert_exporter": "python",
   "pygments_lexer": "ipython3",
   "version": "3.9.13"
  }
 },
 "nbformat": 4,
 "nbformat_minor": 5
}
