{
 "cells": [
  {
   "cell_type": "markdown",
   "id": "661b1fd8",
   "metadata": {},
   "source": [
    "1.In Python []  is used to denote an empty list.\n"
   ]
  },
  {
   "cell_type": "markdown",
   "id": "54461abf",
   "metadata": {},
   "source": [
    "2.To assign the value 'hello' as the third value in a list stored in a variable called spam, we can use indexing and assignment. In Python, list indices start from 0, so the third value would have an index of 2."
   ]
  },
  {
   "cell_type": "code",
   "execution_count": 2,
   "id": "1d563ca2",
   "metadata": {},
   "outputs": [
    {
     "name": "stdout",
     "output_type": "stream",
     "text": [
      "[2, 4, 'hello', 8, 10]\n"
     ]
    }
   ],
   "source": [
    "spam = [2, 4, 6, 8, 10]\n",
    "spam[2] = 'hello'\n",
    "print(spam)"
   ]
  },
  {
   "cell_type": "markdown",
   "id": "ec933bc7",
   "metadata": {},
   "source": [
    "spam =['a','b','c','d']"
   ]
  },
  {
   "cell_type": "markdown",
   "id": "ea75abba",
   "metadata": {},
   "source": [
    "3．spam[int(int('3' * 2) / 11)]\n",
    "　'3' * 2 concatenates the string '3' with itself, resulting in the string '33'.\n",
    "　int('33') converts the string '33' to an integer, resulting in the value 33.\n",
    "　int(33 / 11) performs integer division, resulting in the value 3.\n",
    "　Finally, spam[3] accesses the element at index 3 in the spam list.\n",
    "　Therefore, the value of spam[int(int('3' * 2) / 11)] is 'd'.\n",
    "\n",
    "\n",
    "４．the value of spam[-1] is 'd'.\n",
    "\n",
    "\n",
    "５．Ｔhe value of spam[:2] is ['a', 'b'].\n",
    "\n",
    "\n",
    "\n",
    "\n"
   ]
  },
  {
   "cell_type": "code",
   "execution_count": 7,
   "id": "05e9b65d",
   "metadata": {},
   "outputs": [],
   "source": [
    "bacon = [3.14, 'cat', 11, 'cat', True] "
   ]
  },
  {
   "cell_type": "markdown",
   "id": "7247354d",
   "metadata": {},
   "source": [
    "6."
   ]
  },
  {
   "cell_type": "code",
   "execution_count": 8,
   "id": "11624dbb",
   "metadata": {},
   "outputs": [
    {
     "name": "stdout",
     "output_type": "stream",
     "text": [
      "1\n"
     ]
    }
   ],
   "source": [
    "bacon = [3.14, 'cat', 11, 'cat', True]\n",
    "index_value = bacon.index('cat')\n",
    "print(index_value)"
   ]
  },
  {
   "cell_type": "code",
   "execution_count": 9,
   "id": "20724650",
   "metadata": {},
   "outputs": [
    {
     "name": "stdout",
     "output_type": "stream",
     "text": [
      "[3.14, 'cat', 11, 'cat', True, 99]\n"
     ]
    }
   ],
   "source": [
    "#7.\n",
    "bacon = [3.14, 'cat', 11, 'cat', True]\n",
    "bacon.append(99)\n",
    "print(bacon)\n"
   ]
  },
  {
   "cell_type": "code",
   "execution_count": 10,
   "id": "4e72a4d4",
   "metadata": {},
   "outputs": [
    {
     "name": "stdout",
     "output_type": "stream",
     "text": [
      "[3.14, 11, 'cat', True]\n"
     ]
    }
   ],
   "source": [
    "#8.\n",
    "bacon = [3.14, 'cat', 11, 'cat', True]\n",
    "bacon.remove('cat')\n",
    "print(bacon)"
   ]
  },
  {
   "cell_type": "markdown",
   "id": "216fde60",
   "metadata": {},
   "source": [
    "9.List Concatenation Operator (+):\n",
    "The + operator is used to concatenate two or more lists, creating a new list that contains all the elements from the original lists in the order they appear. It does not modify the original lists. The resulting list includes all the elements from the operands involved.\n",
    "\n",
    "List Replication Operator (*):\n",
    "The * operator, when used with a list and an integer, replicates the list by creating a new list that contains multiple copies of the original list. It repeats the elements of the list based on the given integer value."
   ]
  },
  {
   "cell_type": "code",
   "execution_count": 11,
   "id": "e5336887",
   "metadata": {},
   "outputs": [
    {
     "name": "stdout",
     "output_type": "stream",
     "text": [
      "[1, 2, 3, 4, 5, 6]\n"
     ]
    }
   ],
   "source": [
    "list1 = [1, 2, 3]\n",
    "list2 = [4, 5, 6]\n",
    "concatenated_list = list1 + list2\n",
    "print(concatenated_list)"
   ]
  },
  {
   "cell_type": "code",
   "execution_count": 12,
   "id": "755c36a7",
   "metadata": {},
   "outputs": [
    {
     "name": "stdout",
     "output_type": "stream",
     "text": [
      "[1, 2, 3, 1, 2, 3, 1, 2, 3]\n"
     ]
    }
   ],
   "source": [
    "list1 = [1, 2, 3]\n",
    "replicated_list = list1 * 3\n",
    "print(replicated_list)"
   ]
  },
  {
   "cell_type": "markdown",
   "id": "7c018178",
   "metadata": {},
   "source": [
    "10.append() method:\n",
    "\n",
    "The append() method is used to add an element to the end of a list.\n",
    "It modifies the original list by adding the element as the last item.\n",
    "\n",
    "The insert() method is used to add an element at a specific position in the list.\n",
    "It modifies the original list by inserting the element at the specified index."
   ]
  },
  {
   "cell_type": "code",
   "execution_count": 13,
   "id": "62a7f97d",
   "metadata": {},
   "outputs": [
    {
     "name": "stdout",
     "output_type": "stream",
     "text": [
      "[1, 2, 3, 4]\n",
      "[1, 'a', 2, 3]\n"
     ]
    }
   ],
   "source": [
    "my_list = [1, 2, 3]\n",
    "my_list.append(4)\n",
    "print(my_list)\n",
    "\n",
    "my_list = [1, 2, 3]\n",
    "my_list.insert(1, 'a')\n",
    "print(my_list)"
   ]
  },
  {
   "cell_type": "markdown",
   "id": "abc4c4d6",
   "metadata": {},
   "source": [
    "11.There are two commonly used methods for removing items from a list in Python:\n",
    "\n",
    "remove() method:\n",
    "\n",
    "The remove() method is used to remove the first occurrence of a specified element from a list.\n",
    "\n",
    "pop() method:\n",
    "\n",
    "The pop() method is used to remove an element from a list based on its index.\n",
    "It modifies the original list by removing and returning the element at the specified index."
   ]
  },
  {
   "cell_type": "code",
   "execution_count": 14,
   "id": "de269bec",
   "metadata": {},
   "outputs": [
    {
     "name": "stdout",
     "output_type": "stream",
     "text": [
      "[1, 3, 2, 4]\n",
      "[1, 3, 4]\n",
      "2\n"
     ]
    }
   ],
   "source": [
    "my_list = [1, 2, 3, 2, 4]\n",
    "my_list.remove(2)\n",
    "print(my_list)\n",
    "\n",
    "my_list = [1, 2, 3, 4]\n",
    "popped_item = my_list.pop(1)\n",
    "print(my_list)\n",
    "print(popped_item)"
   ]
  },
  {
   "cell_type": "markdown",
   "id": "a5bae944",
   "metadata": {},
   "source": [
    "12.Sequential Access: Both lists and strings allow sequential access to their elements. We can access individual elements of a list or a string by using indexing, slicing, or iteration.\n",
    "\n",
    "Indexing and Slicing: Both lists and strings support indexing and slicing operations to retrieve specific elements or subsequences. we can access elements by their position or extract portions of the sequence using slicing notation.\n",
    "\n",
    "Immutable vs. Mutable: While strings are immutable in Python (meaning they cannot be modified once created), lists are mutable. This means that we can change, add, or remove elements from a list, but we cannot directly modify individual characters of a string."
   ]
  },
  {
   "cell_type": "markdown",
   "id": "b0126cd0",
   "metadata": {},
   "source": [
    "13.Mutability:\n",
    "Tuples are immutable, meaning once created, their elements cannot be modified. we cannot add, remove, or change elements in a tuple.\n",
    "Lists, on the other hand, are mutable. we can modify, add, remove, or reorder elements within a list after it has been created.\n",
    "\n",
    "Syntax:\n",
    "Tuples are defined using parentheses (), or in some cases, without any enclosing brackets. For example, my_tuple = (1, 2, 3) or my_tuple = 1, 2, 3.\n",
    "Lists are defined using square brackets []. For example, my_list = [1, 2, 3].\n"
   ]
  },
  {
   "cell_type": "markdown",
   "id": "1672cfd4",
   "metadata": {},
   "source": [
    "14. my_tuple = (42,)"
   ]
  },
  {
   "cell_type": "markdown",
   "id": "f0a27fe4",
   "metadata": {},
   "source": [
    "15."
   ]
  },
  {
   "cell_type": "code",
   "execution_count": 15,
   "id": "1080b9d1",
   "metadata": {},
   "outputs": [
    {
     "name": "stdout",
     "output_type": "stream",
     "text": [
      "(1, 2, 3, 4)\n"
     ]
    }
   ],
   "source": [
    "my_list = [1, 2, 3, 4]\n",
    "my_tuple = tuple(my_list)\n",
    "print(my_tuple)"
   ]
  },
  {
   "cell_type": "code",
   "execution_count": 16,
   "id": "fe5633b4",
   "metadata": {},
   "outputs": [
    {
     "name": "stdout",
     "output_type": "stream",
     "text": [
      "[1, 2, 3, 4]\n"
     ]
    }
   ],
   "source": [
    "my_tuple = (1, 2, 3, 4)\n",
    "my_list = list(my_tuple)\n",
    "print(my_list)"
   ]
  },
  {
   "cell_type": "markdown",
   "id": "54307e88",
   "metadata": {},
   "source": [
    "16. Variables that \"contain\" list values in Python do not actually contain the list itself, but rather a reference to the list. In Python, lists are objects, and variables act as references or pointers to those objects.\n",
    "\n",
    "When you assign a list to a variable, the variable holds a reference to the memory location where the list object is stored. This reference allows us to access and manipulate the list's elements. In other words, the variable points to the memory address of the list object.\n",
    "my_list = [1, 2, 3]\n",
    "\n",
    "In this case, my_list is a variable that holds a reference to a list object containing the elements [1, 2, 3]. The variable itself does not directly store the elements of the list, but rather points to the memory location where the list object is stored."
   ]
  },
  {
   "cell_type": "markdown",
   "id": "5b4a3a99",
   "metadata": {},
   "source": [
    "17.copy() function:\n",
    "\n",
    "The copy.copy() function creates a shallow copy of an object.\n",
    "\n",
    "deepcopy() function:\n",
    "\n",
    "The copy.deepcopy() function creates a deep copy of an object."
   ]
  },
  {
   "cell_type": "code",
   "execution_count": 18,
   "id": "2a15ca56",
   "metadata": {},
   "outputs": [
    {
     "name": "stdout",
     "output_type": "stream",
     "text": [
      "[1, [100, 3]]\n",
      "[1, [100, 3]]\n",
      "[1, [200, 3]]\n"
     ]
    }
   ],
   "source": [
    "import copy\n",
    "original_list = [1, [2, 3]]\n",
    "shallow_copy = copy.copy(original_list)\n",
    "deep_copy = copy.deepcopy(original_list)\n",
    "\n",
    "# Modify the nested list in the shallow copy\n",
    "shallow_copy[1][0] = 100\n",
    "\n",
    "# Modify the nested list in the deep copy\n",
    "deep_copy[1][0] = 200\n",
    "\n",
    "print(original_list) \n",
    "print(shallow_copy)  \n",
    "print(deep_copy)  "
   ]
  },
  {
   "cell_type": "markdown",
   "id": "3866501f",
   "metadata": {},
   "source": [
    "In this example, copy.copy() creates a shallow copy, and modifying the nested list in the shallow copy also affects the original list. However, copy.deepcopy() creates a deep copy, and modifying the nested list in the deep copy does not affect the original list."
   ]
  },
  {
   "cell_type": "code",
   "execution_count": null,
   "id": "77cea066",
   "metadata": {},
   "outputs": [],
   "source": []
  }
 ],
 "metadata": {
  "kernelspec": {
   "display_name": "Python 3 (ipykernel)",
   "language": "python",
   "name": "python3"
  },
  "language_info": {
   "codemirror_mode": {
    "name": "ipython",
    "version": 3
   },
   "file_extension": ".py",
   "mimetype": "text/x-python",
   "name": "python",
   "nbconvert_exporter": "python",
   "pygments_lexer": "ipython3",
   "version": "3.10.9"
  }
 },
 "nbformat": 4,
 "nbformat_minor": 5
}
