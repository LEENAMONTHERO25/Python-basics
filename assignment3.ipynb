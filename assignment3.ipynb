{
 "cells": [
  {
   "cell_type": "markdown",
   "id": "b645b169",
   "metadata": {},
   "source": [
    "1.Functions are advantageous to have in your Python programs for several reasons:\n",
    "\n",
    "Reusability: Functions allow you to write reusable code blocks that can be called multiple times from different parts of your program. \n",
    "Modularity: Functions promote modular programming by dividing your code into logical, self-contained units. \n",
    "Abstraction: Functions allow you to abstract away complex operations or algorithms behind a simple function call. \n",
    "Code readability: Functions improve code readability by providing a higher-level view of the program's functionality. \n",
    "Code reusability: Functions can be shared and reused across different programs or projects. "
   ]
  },
  {
   "cell_type": "markdown",
   "id": "82cf8dc4",
   "metadata": {},
   "source": [
    "2.The code inside a function in Python runs when the function is called, not when it is specified or defined."
   ]
  },
  {
   "cell_type": "markdown",
   "id": "5fad2e37",
   "metadata": {},
   "source": [
    "3.In Python, the 'def' statement is used to create a function. "
   ]
  },
  {
   "cell_type": "markdown",
   "id": "2149db45",
   "metadata": {},
   "source": [
    "4.A function is a block of reusable code that performs a specific task. \n",
    "It is created using the def statement, followed by the function name, input parameters (optional), and a colon. \n",
    "The code inside the function is executed when the function is called.\n",
    "function call is the act of executing that function, passing any required arguments.\n",
    "The function call triggers the execution of the code within the function.\n"
   ]
  },
  {
   "cell_type": "markdown",
   "id": "f59e0fc3",
   "metadata": {},
   "source": [
    "5.There is one global scope in a Python program.\n",
    "The number of local scopes can vary depending on the number of function calls and code blocks in the program. Each function call and code block creates its own local scope.\n",
    "\n",
    "\n",
    "\n"
   ]
  },
  {
   "cell_type": "markdown",
   "id": "9d15c687",
   "metadata": {},
   "source": [
    "6.When a function call returns, the local scope associated with that function is destroyed, and the variables defined within that local scope are no longer accessible. This is because local variables have a limited scope and lifetime that is tied to the execution of the function."
   ]
  },
  {
   "cell_type": "code",
   "execution_count": 1,
   "id": "e824f8bc",
   "metadata": {},
   "outputs": [
    {
     "name": "stdout",
     "output_type": "stream",
     "text": [
      "12\n"
     ]
    },
    {
     "ename": "NameError",
     "evalue": "name 'x' is not defined",
     "output_type": "error",
     "traceback": [
      "\u001b[1;31m---------------------------------------------------------------------------\u001b[0m",
      "\u001b[1;31mNameError\u001b[0m                                 Traceback (most recent call last)",
      "Cell \u001b[1;32mIn[1], line 6\u001b[0m\n\u001b[0;32m      4\u001b[0m     \u001b[38;5;28mprint\u001b[39m(x)\n\u001b[0;32m      5\u001b[0m my_fun()\n\u001b[1;32m----> 6\u001b[0m \u001b[38;5;28mprint\u001b[39m(\u001b[43mx\u001b[49m)\n",
      "\u001b[1;31mNameError\u001b[0m: name 'x' is not defined"
     ]
    }
   ],
   "source": [
    "#example\n",
    "def my_fun():\n",
    "    x=12\n",
    "    print(x)\n",
    "my_fun()\n",
    "print(x)"
   ]
  },
  {
   "cell_type": "markdown",
   "id": "12bc30dc",
   "metadata": {},
   "source": [
    "7.The concept of a return value in Python refers to the value that a function can send back to the code that called it. When a function executes a return statement, it immediately exits the function and passes the specified value (or values) back to the caller.\n",
    "\n",
    "A return value allows a function to provide the result of its computation or any other information that can be useful for further processing. The caller of the function can capture the return value and use it in expressions, assign it to variables, or perform any other desired operations.\n"
   ]
  },
  {
   "cell_type": "markdown",
   "id": "b2312852",
   "metadata": {},
   "source": [
    "8.If a function does not have a return statement or if the return statement is without any value, the return value of a call to that function is None. None is a special Python object that represents the absence of a value. It serves as a default return value when no explicit value is specified."
   ]
  },
  {
   "cell_type": "markdown",
   "id": "9c284c4e",
   "metadata": {},
   "source": [
    "9.To make a function variable refer to the global variable with the same name, you need to use the global keyword inside the function. By declaring a variable as global, you are indicating that you want to work with the global variable instead of creating a new local variable with the same name."
   ]
  },
  {
   "cell_type": "code",
   "execution_count": 2,
   "id": "b30a836d",
   "metadata": {},
   "outputs": [
    {
     "name": "stdout",
     "output_type": "stream",
     "text": [
      "Before function call: 50\n",
      "After function call: 20\n"
     ]
    }
   ],
   "source": [
    "#example\n",
    "global_variable = 50\n",
    "\n",
    "def modify_global():\n",
    "    global global_variable\n",
    "    global_variable = 20\n",
    "\n",
    "print(\"Before function call:\", global_variable)\n",
    "modify_global()\n",
    "print(\"After function call:\", global_variable)\n"
   ]
  },
  {
   "cell_type": "markdown",
   "id": "9d67e413",
   "metadata": {},
   "source": [
    "10.In Python, the data type of None is called NoneType. It is a special type that represents the absence of a value or a null value. None is commonly used to indicate the absence of a meaningful result or to initialize a variable before assigning it a proper value."
   ]
  },
  {
   "cell_type": "markdown",
   "id": "e41ffb32",
   "metadata": {},
   "source": [
    "11.the sentence \"import areallyourpetsnamederic\" would raise a ModuleNotFoundError indicating that the module \"areallyourpetsnamederic\" could not be found."
   ]
  },
  {
   "cell_type": "markdown",
   "id": "ea4fc7c9",
   "metadata": {},
   "source": [
    "12.If you have a function named bacon() in a module called spam and you import the spam module in your Python script, you can call the bacon() function using the dot notation."
   ]
  },
  {
   "cell_type": "markdown",
   "id": "4bf5aa43",
   "metadata": {},
   "source": [
    "import spam\n",
    "\n",
    "spam.bacon()\n"
   ]
  },
  {
   "cell_type": "markdown",
   "id": "6f369f2e",
   "metadata": {},
   "source": [
    "13.To prevent a program from crashing when encountering an error, we can implement error handling techniques in our code.\n",
    "\n",
    "1.Try-Except Block\n",
    "2.Finally Block\n",
    "3.Logging\n",
    "4.Input Validation\n",
    "\n",
    "By implementing these error handling techniques, we can make our program more robust, handle exceptions gracefully, and avoid crashes."
   ]
  },
  {
   "cell_type": "markdown",
   "id": "23d57d8f",
   "metadata": {},
   "source": [
    "14.The purpose of the try clause in Python is to enclose a block of code that might potentially raise an exception. The code within the try block is executed, and if any exception occurs during its execution, the control immediately jumps to the corresponding except block.\n",
    "\n",
    "The purpose of the except clause is to define the specific type of exception or exceptions that the try block can handle. If an exception occurs within the try block, the program flow transfers to the matching except block that handles that particular type of exception.\n",
    "\n",
    "By combining the try and except clauses, you can effectively handle exceptions and ensure that your program continues running even when errors occur."
   ]
  },
  {
   "cell_type": "code",
   "execution_count": null,
   "id": "fb1ffb9c",
   "metadata": {},
   "outputs": [],
   "source": []
  }
 ],
 "metadata": {
  "kernelspec": {
   "display_name": "Python 3 (ipykernel)",
   "language": "python",
   "name": "python3"
  },
  "language_info": {
   "codemirror_mode": {
    "name": "ipython",
    "version": 3
   },
   "file_extension": ".py",
   "mimetype": "text/x-python",
   "name": "python",
   "nbconvert_exporter": "python",
   "pygments_lexer": "ipython3",
   "version": "3.10.9"
  }
 },
 "nbformat": 4,
 "nbformat_minor": 5
}
