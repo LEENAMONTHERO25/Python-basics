{
 "cells": [
  {
   "cell_type": "markdown",
   "id": "47f0334f",
   "metadata": {},
   "source": [
    "1.Keywords in Python are reserved words that have special meanings and are used to define the syntax and structure of the language. These keywords cannot be used as variable names or identifiers in Python code."
   ]
  },
  {
   "cell_type": "code",
   "execution_count": 1,
   "id": "bacb6028",
   "metadata": {},
   "outputs": [
    {
     "name": "stdout",
     "output_type": "stream",
     "text": [
      "False\n",
      "None\n",
      "True\n",
      "and\n",
      "as\n",
      "assert\n",
      "async\n",
      "await\n",
      "break\n",
      "class\n",
      "continue\n",
      "def\n",
      "del\n",
      "elif\n",
      "else\n",
      "except\n",
      "finally\n",
      "for\n",
      "from\n",
      "global\n",
      "if\n",
      "import\n",
      "in\n",
      "is\n",
      "lambda\n",
      "nonlocal\n",
      "not\n",
      "or\n",
      "pass\n",
      "raise\n",
      "return\n",
      "try\n",
      "while\n",
      "with\n",
      "yield\n"
     ]
    }
   ],
   "source": [
    "import keyword\n",
    "\n",
    "all_keywords = keyword.kwlist\n",
    "\n",
    "for keyword in all_keywords:\n",
    "    print(keyword)"
   ]
  },
  {
   "cell_type": "markdown",
   "id": "28cc46e0",
   "metadata": {},
   "source": [
    "2.  1.Variable names must start with a letter (a-z, A-Z) or an underscore (_). They cannot start with a digit (0-9).\n",
    "\n",
    "    2.Variable names can contain letters (a-z, A-Z), digits (0-9), and underscores (_). They are case-sensitive, meaning that    myVar and myvar are different variables.\n",
    "    \n",
    "    3.Python keywords cannot be used as variable names. For example, you cannot name a variable if or while because these are reserved keywords.\n",
    "   \n",
    "    4.Variable names should be descriptive and meaningful, so they can easily convey the purpose or content of the variable.\n",
    "   \n",
    "    5.Avoid using special characters like !, @, #, $, %, etc., in variable names, as they are not allowed."
   ]
  },
  {
   "cell_type": "markdown",
   "id": "bf058cb2",
   "metadata": {},
   "source": [
    "3.\n",
    "Here are some key points related to variable naming conventions:\n",
    "\n",
    "1.Naming Style: Variable names should be lowercase, with words separated by underscores (snake_case). This convention applies to variable names, function names, and module names.\n",
    "\n",
    "2.Descriptive Names: Choose meaningful and descriptive names for variables that accurately represent their purpose or content. This helps to make the code more readable and self-explanatory.\n",
    "\n",
    "3.Avoid Reserved Words: Do not use Python reserved words (keywords) as variable names, such as if, for, while, and, or, etc.\n",
    "\n",
    "4.Constants: If a variable is intended to be a constant (a value that doesn't change throughout the program), its name should be in uppercase letters, with words separated by underscores. For example: MAX_SIZE, PI, CONFIG_FILE.\n",
    "\n",
    "5.Avoid Single Letters: In general, avoid using single letters like x, y, or z as variable names, except in cases where their meaning is well-established (e.g., mathematical formulas or loop indices).\n",
    "\n",
    "6.Class Names: Class names should follow the CapWords convention, also known as CamelCase. Each word starts with an uppercase letter, without underscores. For example: MyClass, DataProcessor, HTTPRequest.\n",
    "\n",
    "7.Private Variables: To indicate that a variable is intended for internal use within a class or module, prefix its name with a single underscore. For example: _internal_var.\n",
    "\n",
    "8.Protected Variables: To indicate that a variable is intended for internal use within a class and its subclasses, prefix its name with a double underscore. For example: __protected_var.\n",
    "\n",
    "9.Module-level Variables: If a variable is intended to be used as a global variable within a module, it should be written in all capital letters, with words separated by underscores. For example: GLOBAL_VAR, CONFIGURATION_SETTINGS.\n",
    "\n",
    "10.Singular vs. Plural: Variable names should generally be in the singular form unless they represent a collection of items. For example: car, employee, students."
   ]
  },
  {
   "cell_type": "markdown",
   "id": "85053aff",
   "metadata": {},
   "source": [
    "4.If a keyword is used as a variable name in Python, it will result in a syntax error."
   ]
  },
  {
   "cell_type": "code",
   "execution_count": 2,
   "id": "632b1fe4",
   "metadata": {},
   "outputs": [
    {
     "ename": "SyntaxError",
     "evalue": "invalid syntax (182722112.py, line 1)",
     "output_type": "error",
     "traceback": [
      "\u001b[1;36m  Cell \u001b[1;32mIn[2], line 1\u001b[1;36m\u001b[0m\n\u001b[1;33m    if = 10\u001b[0m\n\u001b[1;37m       ^\u001b[0m\n\u001b[1;31mSyntaxError\u001b[0m\u001b[1;31m:\u001b[0m invalid syntax\n"
     ]
    }
   ],
   "source": [
    "if = 10"
   ]
  },
  {
   "cell_type": "markdown",
   "id": "4422810d",
   "metadata": {},
   "source": [
    "5.The def keyword in Python is used to define a function. It is followed by the function name, a set of parentheses that may contain parameters, and a colon. "
   ]
  },
  {
   "cell_type": "markdown",
   "id": "d4796ec7",
   "metadata": {},
   "source": [
    "6.The backslash is used to create escape sequences, which represent special characters or character codes that cannot be easily typed or displayed directly. For example:\n",
    "\n",
    "1. `\\n` represents a newline character.\n",
    "\n",
    "2. `\\t` represents a tab character.\n",
    "\n",
    "3. `\\\"` represents a double quote character.\n",
    "\n",
    "4. `\\'` represents a single quote character.\n",
    "\n",
    "4. `\\\\` represents a literal backslash character."
   ]
  },
  {
   "cell_type": "markdown",
   "id": "6db4aef9",
   "metadata": {},
   "source": [
    "7.(i) Homogeneous list\n"
   ]
  },
  {
   "cell_type": "code",
   "execution_count": 3,
   "id": "0fb17036",
   "metadata": {},
   "outputs": [],
   "source": [
    "numbers = [1, 2, 3, 4, 5]"
   ]
  },
  {
   "cell_type": "markdown",
   "id": "50116a9e",
   "metadata": {},
   "source": [
    "(ii) Heterogeneous set"
   ]
  },
  {
   "cell_type": "code",
   "execution_count": 4,
   "id": "80d698ef",
   "metadata": {},
   "outputs": [],
   "source": [
    "my_set = {1, 'apple', 3.14, True}"
   ]
  },
  {
   "cell_type": "markdown",
   "id": "7f90f937",
   "metadata": {},
   "source": [
    "(iii) Homogeneous tuple"
   ]
  },
  {
   "cell_type": "code",
   "execution_count": 5,
   "id": "63ca0a93",
   "metadata": {},
   "outputs": [],
   "source": [
    "fruits = ('apple', 'banana', 'orange')"
   ]
  },
  {
   "cell_type": "markdown",
   "id": "8885a23d",
   "metadata": {},
   "source": [
    "8.Immutable Data Types:\n",
    "Immutable data types are those that cannot be changed after they are created. When you modify an immutable object, a new object is created with the modified value, rather than modifying the original object itself. Some examples of immutable data types in Python include:\n",
    "\n",
    "Numbers (int, float, complex)\n",
    "Strings (str)\n",
    "Tuples (tuple)"
   ]
  },
  {
   "cell_type": "code",
   "execution_count": 6,
   "id": "b8c9f197",
   "metadata": {},
   "outputs": [
    {
     "name": "stdout",
     "output_type": "stream",
     "text": [
      "10\n",
      "Hello\n",
      "(1, 2, 3)\n"
     ]
    }
   ],
   "source": [
    "# Numbers\n",
    "x = 10\n",
    "y = x\n",
    "x = 20\n",
    "print(y)  \n",
    "\n",
    "# Strings\n",
    "s = \"Hello\"\n",
    "t = s\n",
    "s = \"Hi\"\n",
    "print(t)  \n",
    "\n",
    "# Tuples\n",
    "tuple1 = (1, 2, 3)\n",
    "tuple2 = tuple1\n",
    "tuple1 = (4, 5, 6)\n",
    "print(tuple2)  "
   ]
  },
  {
   "cell_type": "markdown",
   "id": "b536201d",
   "metadata": {},
   "source": [
    "Mutable Data Types:\n",
    "Mutable data types can be modified after they are created. When you modify a mutable object, it changes the object in-place without creating a new object. Some examples of mutable data types in Python include:\n",
    "\n",
    "Lists (list)\n",
    "Dictionaries (dict)\n",
    "Sets (set)"
   ]
  },
  {
   "cell_type": "code",
   "execution_count": 7,
   "id": "d64489cc",
   "metadata": {},
   "outputs": [
    {
     "name": "stdout",
     "output_type": "stream",
     "text": [
      "[1, 2, 3, 4]\n",
      "{'a': 1, 'b': 2, 'c': 3}\n",
      "{1, 2, 3, 4}\n"
     ]
    }
   ],
   "source": [
    "# Lists\n",
    "list1 = [1, 2, 3]\n",
    "list2 = list1\n",
    "list1.append(4)\n",
    "print(list2)  \n",
    "\n",
    "# Dictionaries\n",
    "dict1 = {'a': 1, 'b': 2}\n",
    "dict2 = dict1\n",
    "dict1['c'] = 3\n",
    "print(dict2)  \n",
    "\n",
    "# Sets\n",
    "set1 = {1, 2, 3}\n",
    "set2 = set1\n",
    "set1.add(4)\n",
    "print(set2)  \n"
   ]
  },
  {
   "cell_type": "markdown",
   "id": "ca2999e2",
   "metadata": {},
   "source": [
    "9."
   ]
  },
  {
   "cell_type": "code",
   "execution_count": 9,
   "id": "5b37a36e",
   "metadata": {},
   "outputs": [
    {
     "name": "stdout",
     "output_type": "stream",
     "text": [
      "    * \n",
      "   * * \n",
      "  * * * \n",
      " * * * * \n",
      "* * * * * \n"
     ]
    }
   ],
   "source": [
    "\n",
    "rows = 5\n",
    "\n",
    "for i in range(rows):\n",
    "    # Print spaces before the star\n",
    "    for j in range(rows - i - 1):\n",
    "        print(\" \", end=\"\")\n",
    "    \n",
    "    # Print star\n",
    "    for k in range(i + 1):\n",
    "        print(\"*\", end=\" \")\n",
    "    \n",
    "    print()\n"
   ]
  },
  {
   "cell_type": "markdown",
   "id": "ba2eaca5",
   "metadata": {},
   "source": [
    "10."
   ]
  },
  {
   "cell_type": "code",
   "execution_count": 13,
   "id": "d169b4f3",
   "metadata": {},
   "outputs": [
    {
     "name": "stdout",
     "output_type": "stream",
     "text": [
      "|||||||||\n",
      " |||||||\n",
      "  |||||\n",
      "   |||\n",
      "    |\n"
     ]
    }
   ],
   "source": [
    "rows = 5\n",
    "spaces = 0\n",
    "bars = rows * 2 - 1\n",
    "\n",
    "while rows > 0:\n",
    "    i = 0\n",
    "    while i < spaces:\n",
    "        print(\" \", end=\"\")\n",
    "        i += 1\n",
    "\n",
    "    j = 0\n",
    "    while j < bars:\n",
    "        print(\"|\", end=\"\")\n",
    "        j += 1\n",
    "\n",
    "    print()\n",
    "    spaces += 1\n",
    "    bars -= 2\n",
    "    rows -= 1\n"
   ]
  },
  {
   "cell_type": "code",
   "execution_count": null,
   "id": "569f4633",
   "metadata": {},
   "outputs": [],
   "source": []
  }
 ],
 "metadata": {
  "kernelspec": {
   "display_name": "Python 3 (ipykernel)",
   "language": "python",
   "name": "python3"
  },
  "language_info": {
   "codemirror_mode": {
    "name": "ipython",
    "version": 3
   },
   "file_extension": ".py",
   "mimetype": "text/x-python",
   "name": "python",
   "nbconvert_exporter": "python",
   "pygments_lexer": "ipython3",
   "version": "3.10.9"
  }
 },
 "nbformat": 4,
 "nbformat_minor": 5
}
