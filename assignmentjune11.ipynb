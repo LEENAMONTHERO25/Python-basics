{
 "cells": [
  {
   "cell_type": "markdown",
   "id": "6c1511e0",
   "metadata": {},
   "source": [
    "1.In Python, a lambda function is a small anonymous function that is defined without a name. It is also known as an \"anonymous function\" because it doesn't require a specific name like regular functions defined with the def keyword. Instead, it uses the lambda keyword to define the function in a concise and compact manner.\n",
    "\n",
    "Lambda functions are limited in functionality compared to regular functions. They are restricted to a single expression and can't contain multiple statements or complex logic. "
   ]
  },
  {
   "cell_type": "markdown",
   "id": "3f7d3621",
   "metadata": {},
   "source": [
    "2.Yes, a lambda function in Python can have multiple arguments. we can define and use multiple arguments in a lambda function by separating them with commas, just like in a regular function."
   ]
  },
  {
   "cell_type": "code",
   "execution_count": 1,
   "id": "8c541e88",
   "metadata": {},
   "outputs": [
    {
     "name": "stdout",
     "output_type": "stream",
     "text": [
      "24\n"
     ]
    }
   ],
   "source": [
    "multiply = lambda x, y, z: x * y * z\n",
    "print(multiply(2, 3, 4))  \n"
   ]
  },
  {
   "cell_type": "markdown",
   "id": "6f7d3d4b",
   "metadata": {},
   "source": [
    "3.Lambda functions in Python are typically used in situations where a small, temporary function is needed for immediate use.\n",
    "They are commonly used as arguments for higher-order functions like map(), filter(), and reduce(), which expect a function as a parameter.\n"
   ]
  },
  {
   "cell_type": "code",
   "execution_count": 2,
   "id": "f5d1071c",
   "metadata": {},
   "outputs": [
    {
     "name": "stdout",
     "output_type": "stream",
     "text": [
      "[1, 4, 9, 16, 25]\n"
     ]
    }
   ],
   "source": [
    "numbers = [1, 2, 3, 4, 5]\n",
    "squared = list(map(lambda x: x**2, numbers))\n",
    "print(squared)  \n"
   ]
  },
  {
   "cell_type": "code",
   "execution_count": 3,
   "id": "4043779c",
   "metadata": {},
   "outputs": [
    {
     "name": "stdout",
     "output_type": "stream",
     "text": [
      "[2, 4]\n"
     ]
    }
   ],
   "source": [
    "numbers = [1, 2, 3, 4, 5]\n",
    "even_numbers = list(filter(lambda x: x % 2 == 0, numbers))\n",
    "print(even_numbers)  \n"
   ]
  },
  {
   "cell_type": "markdown",
   "id": "588cb24f",
   "metadata": {},
   "source": [
    "4.Advantages of Lambda Functions:\n",
    "\n",
    "Concise Syntax: Lambda functions allow us to define functions in a more compact and concise manner. They are useful for small, one-line operations without the need for a dedicated function definition.\n",
    "\n",
    "Anonymous Functions: Lambda functions are anonymous, meaning they don't require a specific name. This can be useful in situations where a function is needed for immediate use, without the need for a named function that won't be reused.\n",
    "\n",
    "Readability and Maintainability: Lambda functions can improve code readability, especially when used as arguments in higher-order functions. They keep the code focused and reduce the need for defining separate functions elsewhere in the codebase.\n",
    "\n",
    "Functional Programming: Lambda functions are commonly used in functional programming paradigms, allowing us to pass functions as arguments to other functions and work with immutable data structures.\n",
    "\n"
   ]
  },
  {
   "cell_type": "markdown",
   "id": "a705fb2b",
   "metadata": {},
   "source": [
    "Limitations of Lambda Functions:\n",
    "\n",
    "Single Expression: Lambda functions are limited to a single expression. They can't contain multiple statements or complex logic like regular functions. This limitation makes them less suitable for more extensive computations.\n",
    "\n",
    "Lack of Named Functions: While the anonymity of lambda functions can be advantageous in some cases, it can also be a limitation. Lambda functions cannot be reused or called by name from different parts of the code. If we need to reuse a function or refer to it elsewhere, a regular named function is more appropriate.\n",
    "\n",
    "Limited Functionality: Due to their limited nature, lambda functions are best suited for simple and immediate computations. They are not designed for complex operations or tasks that require multiple lines of code and more elaborate logic.\n",
    "\n",
    "Readability Concerns: While lambda functions can enhance code readability in certain cases, excessive use of complex lambda expressions can make the code harder to understand. Long or convoluted lambda expressions may lead to reduced readability and maintainability.\n"
   ]
  },
  {
   "cell_type": "markdown",
   "id": "f8c52103",
   "metadata": {},
   "source": [
    "5.Yes, lambda functions in Python can access variables defined outside of their own scope. "
   ]
  },
  {
   "cell_type": "code",
   "execution_count": 4,
   "id": "a49e3018",
   "metadata": {},
   "outputs": [
    {
     "name": "stdout",
     "output_type": "stream",
     "text": [
      "Hello, Leena\n"
     ]
    }
   ],
   "source": [
    "def outer_function():\n",
    "    message = \"Hello\"\n",
    "\n",
    "    # Lambda function accessing the 'message' variable from the outer scope\n",
    "    inner_lambda = lambda name: message + \", \" + name\n",
    "\n",
    "    return inner_lambda\n",
    "\n",
    "# Calling the outer function to get the lambda function\n",
    "my_lambda = outer_function()\n",
    "\n",
    "# Calling the lambda function\n",
    "print(my_lambda(\"Leena\"))  \n"
   ]
  },
  {
   "cell_type": "markdown",
   "id": "d0af256e",
   "metadata": {},
   "source": [
    "6."
   ]
  },
  {
   "cell_type": "code",
   "execution_count": 5,
   "id": "c83f20fc",
   "metadata": {},
   "outputs": [
    {
     "name": "stdout",
     "output_type": "stream",
     "text": [
      "25\n"
     ]
    }
   ],
   "source": [
    "square = lambda x: x ** 2\n",
    "result = square(5)\n",
    "print(result)  \n"
   ]
  },
  {
   "cell_type": "markdown",
   "id": "117924e2",
   "metadata": {},
   "source": [
    "7."
   ]
  },
  {
   "cell_type": "code",
   "execution_count": 6,
   "id": "0d39a1c6",
   "metadata": {},
   "outputs": [
    {
     "name": "stdout",
     "output_type": "stream",
     "text": [
      "9\n"
     ]
    }
   ],
   "source": [
    "find_max = lambda num: max(num)\n",
    "numbers = [5, 2, 9, 1, 7]\n",
    "result = find_max(numbers)\n",
    "print(result)  \n",
    "\n"
   ]
  },
  {
   "cell_type": "code",
   "execution_count": null,
   "id": "5cfd3372",
   "metadata": {},
   "outputs": [],
   "source": [
    "8."
   ]
  },
  {
   "cell_type": "code",
   "execution_count": 7,
   "id": "6fbe8691",
   "metadata": {},
   "outputs": [
    {
     "name": "stdout",
     "output_type": "stream",
     "text": [
      "[2, 8, 6]\n"
     ]
    }
   ],
   "source": [
    "filter_even = lambda list1: list(filter(lambda x: x % 2 == 0, list1))\n",
    "numbers = [5, 2, 9, 1, 7, 8, 6]\n",
    "result = filter_even(numbers)\n",
    "print(result)  \n",
    "\n"
   ]
  },
  {
   "cell_type": "markdown",
   "id": "8490be64",
   "metadata": {},
   "source": [
    "9."
   ]
  },
  {
   "cell_type": "code",
   "execution_count": 8,
   "id": "8ba4365d",
   "metadata": {},
   "outputs": [
    {
     "name": "stdout",
     "output_type": "stream",
     "text": [
      "['kiwi', 'apple', 'grape', 'orange', 'banana']\n"
     ]
    }
   ],
   "source": [
    "sort_by_length = lambda list1: sorted(list1, key=lambda x: len(x))\n",
    "strings = [\"apple\", \"orange\", \"banana\", \"kiwi\", \"grape\"]\n",
    "result = sort_by_length(strings)\n",
    "print(result)  \n",
    "\n"
   ]
  },
  {
   "cell_type": "markdown",
   "id": "aeb239bc",
   "metadata": {},
   "source": [
    "10."
   ]
  },
  {
   "cell_type": "code",
   "execution_count": 9,
   "id": "2cfe8799",
   "metadata": {},
   "outputs": [
    {
     "name": "stdout",
     "output_type": "stream",
     "text": [
      "[4, 5]\n"
     ]
    }
   ],
   "source": [
    "find_common_elements = lambda lst1, lst2: list(filter(lambda x: x in lst2, lst1))\n",
    "list1 = [1, 2, 3, 4, 5]\n",
    "list2 = [4, 5, 6, 7, 8]\n",
    "result = find_common_elements(list1, list2)\n",
    "print(result)  \n"
   ]
  },
  {
   "cell_type": "markdown",
   "id": "ede03401",
   "metadata": {},
   "source": [
    "11."
   ]
  },
  {
   "cell_type": "code",
   "execution_count": 10,
   "id": "e7ab12ab",
   "metadata": {},
   "outputs": [
    {
     "name": "stdout",
     "output_type": "stream",
     "text": [
      "120\n"
     ]
    }
   ],
   "source": [
    "def factorial(n):\n",
    "    \n",
    "    if n == 0 or n == 1:\n",
    "        return 1\n",
    "    # Recursive case: factorial of n is n multiplied by factorial of (n-1)\n",
    "    else:\n",
    "        return n * factorial(n - 1)\n",
    "    \n",
    "result = factorial(5)\n",
    "print(result)  \n",
    "\n"
   ]
  },
  {
   "cell_type": "markdown",
   "id": "9278fef6",
   "metadata": {},
   "source": [
    "12."
   ]
  },
  {
   "cell_type": "code",
   "execution_count": 11,
   "id": "fb2e5b52",
   "metadata": {},
   "outputs": [
    {
     "name": "stdout",
     "output_type": "stream",
     "text": [
      "8\n"
     ]
    }
   ],
   "source": [
    "def fibonacci(n):\n",
    "    #  Fibonacci numbers for 0 and 1 are defined as the number itself\n",
    "    if n == 0:\n",
    "        return 0\n",
    "    elif n == 1:\n",
    "        return 1\n",
    "    # Recursive case: Fibonacci number for n is the sum of the previous two Fibonacci numbers\n",
    "    else:\n",
    "        return fibonacci(n - 1) + fibonacci(n - 2)\n",
    "    \n",
    "result = fibonacci(6)\n",
    "print(result)  \n",
    "\n"
   ]
  },
  {
   "cell_type": "markdown",
   "id": "0a56c00e",
   "metadata": {},
   "source": [
    "13."
   ]
  },
  {
   "cell_type": "code",
   "execution_count": 12,
   "id": "14014020",
   "metadata": {},
   "outputs": [
    {
     "name": "stdout",
     "output_type": "stream",
     "text": [
      "15\n"
     ]
    }
   ],
   "source": [
    "def recursive_sum(lst):\n",
    "    #  an empty list has a sum of 0\n",
    "    if len(lst) == 0:\n",
    "        return 0\n",
    "    # Recursive case: the sum is the first element plus the sum of the rest of the list\n",
    "    else:\n",
    "        return lst[0] + recursive_sum(lst[1:])\n",
    "\n",
    "my_list = [1, 2, 3, 4, 5]\n",
    "result = recursive_sum(my_list)\n",
    "print(result)  \n"
   ]
  },
  {
   "cell_type": "markdown",
   "id": "0b55827b",
   "metadata": {},
   "source": [
    "14."
   ]
  },
  {
   "cell_type": "code",
   "execution_count": 14,
   "id": "0e5a8df5",
   "metadata": {},
   "outputs": [
    {
     "name": "stdout",
     "output_type": "stream",
     "text": [
      "True\n",
      "False\n"
     ]
    }
   ],
   "source": [
    "def is_palindrome(s):\n",
    "    #  an empty string or a string of length 1 is a palindrome\n",
    "    if len(s) == 0 or len(s) == 1:\n",
    "        return True\n",
    "    # Recursive case: compare the first and last characters, and check the remaining substring\n",
    "    elif s[0] == s[-1]:\n",
    "        return is_palindrome(s[1:-1])\n",
    "    else:\n",
    "        return False\n",
    "    \n",
    "result1 = is_palindrome(\"radar\")\n",
    "print(result1)  \n",
    "\n",
    "result2 = is_palindrome(\"hello\")\n",
    "print(result2) \n",
    "\n"
   ]
  },
  {
   "cell_type": "markdown",
   "id": "8d023905",
   "metadata": {},
   "source": [
    "15."
   ]
  },
  {
   "cell_type": "code",
   "execution_count": 15,
   "id": "9fe01b95",
   "metadata": {},
   "outputs": [
    {
     "name": "stdout",
     "output_type": "stream",
     "text": [
      "12\n"
     ]
    }
   ],
   "source": [
    "def gcd(a, b):\n",
    "    #  if b is 0, then the GCD is a\n",
    "    if b == 0:\n",
    "        return a\n",
    "    # Recursive case: recursively calculate the GCD using the remainder\n",
    "    else:\n",
    "        return gcd(b, a % b)\n",
    "\n",
    "result = gcd(24, 36)\n",
    "print(result)  \n"
   ]
  },
  {
   "cell_type": "code",
   "execution_count": null,
   "id": "395f1785",
   "metadata": {},
   "outputs": [],
   "source": []
  }
 ],
 "metadata": {
  "kernelspec": {
   "display_name": "Python 3 (ipykernel)",
   "language": "python",
   "name": "python3"
  },
  "language_info": {
   "codemirror_mode": {
    "name": "ipython",
    "version": 3
   },
   "file_extension": ".py",
   "mimetype": "text/x-python",
   "name": "python",
   "nbconvert_exporter": "python",
   "pygments_lexer": "ipython3",
   "version": "3.10.9"
  }
 },
 "nbformat": 4,
 "nbformat_minor": 5
}
