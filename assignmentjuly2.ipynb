{
 "cells": [
  {
   "cell_type": "markdown",
   "id": "aabfe1d9",
   "metadata": {},
   "source": [
    "1.In object-oriented programming (OOP), inheritance is a fundamental concept that allows a class (called the \"subclass\" or \"derived class\") to inherit properties and behaviors from another class (called the \"superclass\" or \"base class\"). The subclass inherits all the attributes and methods of the superclass, allowing it to reuse code and extend the functionality provided by the superclass. Inheritance establishes an \"is-a\" relationship between classes, where the subclass is a specialized version of the superclass.\n",
    "The main advantages of using inheritance in object-oriented programming are:\n",
    "\n",
    "Code Reusability: Inheritance allows you to define common attributes and methods in a superclass, which can be reused across multiple subclasses. \n",
    "\n",
    "Modularity: Inheritance supports the concept of breaking down complex problems into smaller, manageable pieces. we can create a hierarchy of classes, each responsible for a specific aspect of the overall problem, making the code easier to understand and maintain.\n",
    "\n",
    "Polymorphism: Subclasses can override or extend the behavior of methods inherited from the superclass. This enables polymorphism, where different subclasses can be treated as instances of their superclass, providing a consistent interface while allowing each subclass to behave uniquely as needed.\n",
    "\n",
    "Abstraction: By using inheritance, we can create abstract classes that define a common interface without providing a complete implementation for all methods. Subclasses are then responsible for implementing the abstract methods, ensuring that certain behavior is available while allowing flexibility in specific implementations."
   ]
  },
  {
   "cell_type": "markdown",
   "id": "6453d02d",
   "metadata": {},
   "source": [
    "2.Single Inheritance:\n",
    "Single inheritance refers to a class hierarchy where a subclass can inherit from only one superclass. In other words, a class can have only one direct parent class. The single inheritance model is simpler and more straightforward compared to multiple inheritance.\n",
    "\n",
    "Advantages of Single Inheritance:\n",
    "a. Simplicity: Single inheritance keeps the class hierarchy straightforward, making it easier to understand and maintain the codebase.\n",
    "b. Reduced Complexity: With only one direct parent, there are no concerns about method or attribute conflicts arising from multiple sources.\n",
    "c. Encourages Composition: Since a class can't inherit from multiple superclasses, developers are more likely to use composition (using objects of other classes as attributes) to add functionalities, which is often considered a better design practice.\n",
    "\n",
    "Multiple Inheritance:\n",
    "Multiple inheritance allows a class to inherit from multiple superclasses. This means that a subclass can have more than one direct parent class. While powerful, multiple inheritance introduces additional complexity and requires careful handling to prevent conflicts and ambiguities.\n",
    "\n",
    "Advantages of Multiple Inheritance:\n",
    "a. Code Reusability: Multiple inheritance allows a class to inherit features from multiple superclasses, promoting code reuse and modularity.\n",
    "b. Rich Class Composition: With multiple inheritance, we can create classes with a rich set of behaviors by combining functionalities from various superclasses.\n",
    "c. Capturing Real-world Relationships: In certain cases, multiple inheritance can more accurately model real-world relationships where a class shares features from different categories or aspects.\n",
    "\n",
    "\n",
    "\n",
    "\n",
    "\n",
    "\n"
   ]
  },
  {
   "cell_type": "markdown",
   "id": "21beb57a",
   "metadata": {},
   "source": [
    "3.Base Class:\n",
    "The base class, also known as the superclass or parent class, is the class from which other classes inherit properties and behaviors. It defines a set of common attributes and methods that can be shared by one or more subclasses. The base class serves as a blueprint for creating related classes that share common characteristics.\n",
    "\n",
    "Derived Class:\n",
    "The derived class, also known as the subclass or child class, is the class that inherits attributes and methods from the base class. It extends the functionality of the base class by adding new attributes or methods or by overriding existing ones. A derived class can have only one direct superclass, but it can indirectly inherit from multiple levels up the class hierarchy."
   ]
  },
  {
   "cell_type": "markdown",
   "id": "e90a084e",
   "metadata": {},
   "source": [
    "4.Protected Access Modifier:\n",
    "The \"protected\" access modifier is indicated by a single underscore prefix, like _protected_var. In Python, this is more of a convention than a strict access control mechanism since Python doesn't enforce strict access rules like some other languages (e.g., C++ or Java).\n",
    "\n",
    "the significance of the \"protected\" access modifier in inheritance lies in its ability to allow access to class members from derived classes while discouraging direct access from outside the class hierarchy. Unlike private members, which are entirely hidden from derived classes, protected members are accessible but indicate that they are part of the internal implementation and not intended for external use. Public members, on the other hand, are accessible from everywhere, including derived classes, without any restrictions."
   ]
  },
  {
   "cell_type": "markdown",
   "id": "de110c45",
   "metadata": {},
   "source": [
    "5.The \"super\" keyword in inheritance is used to call a method or access an attribute from the superclass (base class) within the context of a subclass (derived class). It provides a way to invoke the superclass's methods or constructors while still allowing the derived class to extend or override those methods if needed.\n",
    "\n",
    "By using the \"super\" keyword, we maintain the inheritance hierarchy and avoid duplication of code. It allows us to leverage the behavior defined in the base class and then build upon it in the derived class, promoting code reusability and maintaining the integrity of the class hierarchy."
   ]
  },
  {
   "cell_type": "code",
   "execution_count": 1,
   "id": "0a53eecc",
   "metadata": {},
   "outputs": [
    {
     "name": "stdout",
     "output_type": "stream",
     "text": [
      "Vehicle is starting...\n",
      "Car engine is starting...\n"
     ]
    }
   ],
   "source": [
    "class Vehicle:\n",
    "    def start(self):\n",
    "        print(\"Vehicle is starting...\")\n",
    "\n",
    "class Car(Vehicle):\n",
    "    def start(self):\n",
    "        # Calling the start() method of the base class using super()\n",
    "        super().start()\n",
    "        print(\"Car engine is starting...\")\n",
    "\n",
    "# Create an instance of Car\n",
    "my_car = Car()\n",
    "my_car.start()\n"
   ]
  },
  {
   "cell_type": "code",
   "execution_count": null,
   "id": "e852f00c",
   "metadata": {},
   "outputs": [],
   "source": [
    "6."
   ]
  },
  {
   "cell_type": "code",
   "execution_count": 3,
   "id": "4c1239c8",
   "metadata": {},
   "outputs": [
    {
     "name": "stdout",
     "output_type": "stream",
     "text": [
      "Make: Toyota\n",
      "Model: Corolla\n",
      "Year: 2022\n",
      "Fuel Type: Gasoline\n"
     ]
    }
   ],
   "source": [
    "class Vehicle:\n",
    "    def __init__(self, make, model, year):\n",
    "        self.make = make\n",
    "        self.model = model\n",
    "        self.year = year\n",
    "\n",
    "    def display_info(self):\n",
    "        print(f\"Make: {self.make}\")\n",
    "        print(f\"Model: {self.model}\")\n",
    "        print(f\"Year: {self.year}\")\n",
    "\n",
    "\n",
    "class Car(Vehicle):\n",
    "    def __init__(self, make, model, year, fuel_type):\n",
    "        super().__init__(make, model, year)\n",
    "        self.fuel_type = fuel_type\n",
    "\n",
    "    def display_info(self):\n",
    "        super().display_info()\n",
    "        print(f\"Fuel Type: {self.fuel_type}\")\n",
    "\n",
    "\n",
    "# Create a Car object and display its information\n",
    "my_car = Car(\"Toyota\", \"Corolla\", 2022, \"Gasoline\")\n",
    "my_car.display_info()\n"
   ]
  },
  {
   "cell_type": "markdown",
   "id": "31576509",
   "metadata": {},
   "source": [
    "7."
   ]
  },
  {
   "cell_type": "code",
   "execution_count": 5,
   "id": "dff5c118",
   "metadata": {},
   "outputs": [
    {
     "name": "stdout",
     "output_type": "stream",
     "text": [
      "Name: John \n",
      "Salary: 75000\n",
      "Department: HR\n",
      "\n",
      "Name: Kiran\n",
      "Salary: 60000\n",
      "Programming Language: Python\n"
     ]
    }
   ],
   "source": [
    "class Employee:\n",
    "    def __init__(self, name, salary):\n",
    "        self.name = name\n",
    "        self.salary = salary\n",
    "\n",
    "    def display_info(self):\n",
    "        print(f\"Name: {self.name}\")\n",
    "        print(f\"Salary: {self.salary}\")\n",
    "\n",
    "\n",
    "class Manager(Employee):\n",
    "    def __init__(self, name, salary, department):\n",
    "        super().__init__(name, salary)\n",
    "        self.department = department\n",
    "\n",
    "    def display_info(self):\n",
    "        super().display_info()\n",
    "        print(f\"Department: {self.department}\")\n",
    "\n",
    "\n",
    "class Developer(Employee):\n",
    "    def __init__(self, name, salary, programming_language):\n",
    "        super().__init__(name, salary)\n",
    "        self.programming_language = programming_language\n",
    "\n",
    "    def display_info(self):\n",
    "        super().display_info()\n",
    "        print(f\"Programming Language: {self.programming_language}\")\n",
    "\n",
    "\n",
    "# Create a Manager object and display its information\n",
    "manager = Manager(\"John \", 75000, \"HR\")\n",
    "manager.display_info()\n",
    "print()\n",
    "\n",
    "# Create a Developer object and display its information\n",
    "developer = Developer(\"Kiran\", 60000, \"Python\")\n",
    "developer.display_info()\n"
   ]
  },
  {
   "cell_type": "markdown",
   "id": "b66c0f75",
   "metadata": {},
   "source": [
    "8."
   ]
  },
  {
   "cell_type": "code",
   "execution_count": 8,
   "id": "7e5b4aa5",
   "metadata": {},
   "outputs": [
    {
     "name": "stdout",
     "output_type": "stream",
     "text": [
      "Color: Red\n",
      "Border Width: 2\n",
      "Length: 10\n",
      "Width: 5\n",
      "\n",
      "Color: Blue\n",
      "Border Width: 1\n",
      "Radius: 7\n"
     ]
    }
   ],
   "source": [
    "class Shape:\n",
    "    def __init__(self, color, border_width):\n",
    "        self.color = color\n",
    "        self.border_width = border_width\n",
    "\n",
    "    def display_info(self):\n",
    "        print(f\"Color: {self.color}\")\n",
    "        print(f\"Border Width: {self.border_width}\")\n",
    "\n",
    "\n",
    "class Rectangle(Shape):\n",
    "    def __init__(self, color, border_width, length, width):\n",
    "        super().__init__(color, border_width)\n",
    "        self.length = length\n",
    "        self.width = width\n",
    "\n",
    "    def display_info(self):\n",
    "        super().display_info()\n",
    "        print(f\"Length: {self.length}\")\n",
    "        print(f\"Width: {self.width}\")\n",
    "\n",
    "\n",
    "class Circle(Shape):\n",
    "    def __init__(self, color, border_width, radius):\n",
    "        super().__init__(color, border_width)\n",
    "        self.radius = radius\n",
    "\n",
    "    def display_info(self):\n",
    "        super().display_info()\n",
    "        print(f\"Radius: {self.radius}\")\n",
    "\n",
    "\n",
    "# Create a Rectangle object and display its information\n",
    "rectangle = Rectangle(\"Red\", 2, 10, 5)\n",
    "rectangle.display_info()\n",
    "print()\n",
    "\n",
    "# Create a Circle object and display its information\n",
    "circle = Circle(\"Blue\", 1, 7)\n",
    "circle.display_info()\n"
   ]
  },
  {
   "cell_type": "markdown",
   "id": "9975517f",
   "metadata": {},
   "source": [
    "9."
   ]
  },
  {
   "cell_type": "code",
   "execution_count": 9,
   "id": "3a710188",
   "metadata": {},
   "outputs": [
    {
     "name": "stdout",
     "output_type": "stream",
     "text": [
      "Brand: Apple\n",
      "Model: iPhone 13\n",
      "Screen Size: 6.1 inches\n",
      "\n",
      "Brand: Samsung\n",
      "Model: Galaxy Tab S7\n",
      "Battery Capacity: 8000 mAh\n"
     ]
    }
   ],
   "source": [
    "class Device:\n",
    "    def __init__(self, brand, model):\n",
    "        self.brand = brand\n",
    "        self.model = model\n",
    "\n",
    "    def display_info(self):\n",
    "        print(f\"Brand: {self.brand}\")\n",
    "        print(f\"Model: {self.model}\")\n",
    "\n",
    "\n",
    "class Phone(Device):\n",
    "    def __init__(self, brand, model, screen_size):\n",
    "        super().__init__(brand, model)\n",
    "        self.screen_size = screen_size\n",
    "\n",
    "    def display_info(self):\n",
    "        super().display_info()\n",
    "        print(f\"Screen Size: {self.screen_size}\")\n",
    "\n",
    "\n",
    "class Tablet(Device):\n",
    "    def __init__(self, brand, model, battery_capacity):\n",
    "        super().__init__(brand, model)\n",
    "        self.battery_capacity = battery_capacity\n",
    "\n",
    "    def display_info(self):\n",
    "        super().display_info()\n",
    "        print(f\"Battery Capacity: {self.battery_capacity}\")\n",
    "\n",
    "\n",
    "# Create a Phone object and display its information\n",
    "phone = Phone(\"Apple\", \"iPhone 13\", \"6.1 inches\")\n",
    "phone.display_info()\n",
    "print()\n",
    "\n",
    "# Create a Tablet object and display its information\n",
    "tablet = Tablet(\"Samsung\", \"Galaxy Tab S7\", \"8000 mAh\")\n",
    "tablet.display_info()\n"
   ]
  },
  {
   "cell_type": "markdown",
   "id": "e77f0cfd",
   "metadata": {},
   "source": [
    "10."
   ]
  },
  {
   "cell_type": "code",
   "execution_count": 10,
   "id": "fd0eeae9",
   "metadata": {},
   "outputs": [
    {
     "name": "stdout",
     "output_type": "stream",
     "text": [
      "Account Number: 0001234\n",
      "Balance: 5000.00\n",
      "Interest Earned: 125.00\n",
      "New Balance: 5125.00\n",
      "\n",
      "Account Number: 0001345\n",
      "Balance: 3000.00\n",
      "Fees Deducted: 50.00\n",
      "New Balance: 2950.00\n"
     ]
    }
   ],
   "source": [
    "class BankAccount:\n",
    "    def __init__(self, account_number, balance):\n",
    "        self.account_number = account_number\n",
    "        self.balance = balance\n",
    "\n",
    "    def display_info(self):\n",
    "        print(f\"Account Number: {self.account_number}\")\n",
    "        print(f\"Balance: {self.balance:.2f}\")\n",
    "\n",
    "\n",
    "class SavingsAccount(BankAccount):\n",
    "    def __init__(self, account_number, balance):\n",
    "        super().__init__(account_number, balance)\n",
    "\n",
    "    def calculate_interest(self, interest_rate):\n",
    "        interest = self.balance * interest_rate / 100\n",
    "        self.balance += interest\n",
    "        print(f\"Interest Earned: {interest:.2f}\")\n",
    "        print(f\"New Balance: {self.balance:.2f}\")\n",
    "\n",
    "\n",
    "class CheckingAccount(BankAccount):\n",
    "    def __init__(self, account_number, balance):\n",
    "        super().__init__(account_number, balance)\n",
    "\n",
    "    def deduct_fees(self, fee_amount):\n",
    "        if self.balance >= fee_amount:\n",
    "            self.balance -= fee_amount\n",
    "            print(f\"Fees Deducted: {fee_amount:.2f}\")\n",
    "            print(f\"New Balance: {self.balance:.2f}\")\n",
    "        else:\n",
    "            print(\"Insufficient funds to deduct fees.\")\n",
    "\n",
    "\n",
    "# Create a SavingsAccount object and display its information\n",
    "savings_account = SavingsAccount(\"0001234\", 5000)\n",
    "savings_account.display_info()\n",
    "savings_account.calculate_interest(2.5)  # 2.5% interest rate\n",
    "print()\n",
    "\n",
    "# Create a CheckingAccount object and display its information\n",
    "checking_account = CheckingAccount(\"0001345\", 3000)\n",
    "checking_account.display_info()\n",
    "checking_account.deduct_fees(50)\n"
   ]
  },
  {
   "cell_type": "code",
   "execution_count": null,
   "id": "030e7820",
   "metadata": {},
   "outputs": [],
   "source": []
  }
 ],
 "metadata": {
  "kernelspec": {
   "display_name": "Python 3 (ipykernel)",
   "language": "python",
   "name": "python3"
  },
  "language_info": {
   "codemirror_mode": {
    "name": "ipython",
    "version": 3
   },
   "file_extension": ".py",
   "mimetype": "text/x-python",
   "name": "python",
   "nbconvert_exporter": "python",
   "pygments_lexer": "ipython3",
   "version": "3.10.9"
  }
 },
 "nbformat": 4,
 "nbformat_minor": 5
}
