{
 "cells": [
  {
   "cell_type": "markdown",
   "id": "6bc03517",
   "metadata": {},
   "source": [
    "1. In Python, an empty dictionary is represented by a pair of curly braces with nothing inside them."
   ]
  },
  {
   "cell_type": "code",
   "execution_count": 1,
   "id": "501aec5b",
   "metadata": {},
   "outputs": [],
   "source": [
    "my_dict = {}\n"
   ]
  },
  {
   "cell_type": "markdown",
   "id": "33eaccb1",
   "metadata": {},
   "source": [
    "2."
   ]
  },
  {
   "cell_type": "code",
   "execution_count": 2,
   "id": "cae5a918",
   "metadata": {},
   "outputs": [
    {
     "name": "stdout",
     "output_type": "stream",
     "text": [
      "42\n"
     ]
    }
   ],
   "source": [
    "my_dict = {'foo': 42}\n",
    "value = my_dict['foo']\n",
    "print(value)"
   ]
  },
  {
   "cell_type": "markdown",
   "id": "bc3fdb79",
   "metadata": {},
   "source": [
    "3.Dictionary: A dictionary is an unordered collection of key-value pairs. Each key in the dictionary must be unique, and it is used to retrieve the associated value. Keys are typically immutable objects like strings or numbers\n",
    "\n",
    "List: A list is an ordered collection of elements. The elements in a list can be of different types, and they are stored in a specific order. Elements in a list are accessed by their position or index, starting from zero. \n",
    "\n",
    "Dictionary: In a dictionary, values are accessed by their keys. \n",
    "\n",
    "List: In a list, elements are accessed by their index position.\n",
    "\n",
    "Dictionary: Dictionaries are inherently unordered, meaning that the key-value pairs do not have a fixed order. The order of items in a dictionary is not guaranteed and can change during operations like insertion or deletion.\n",
    "\n",
    "List: Lists maintain the order of elements as they are added. The order of items in a list remains fixed unless explicitly modified.\n",
    "\n",
    "Dictionary: Dictionaries are mutable, which means you can modify, add, or remove key-value pairs after the dictionary is created.\n",
    "\n",
    "List: Lists are also mutable, allowing you to modify, add, or remove elements from the list."
   ]
  },
  {
   "cell_type": "markdown",
   "id": "1a5f1df5",
   "metadata": {},
   "source": [
    "4.If you try to access spam['foo'] and spam is {'bar': 100}, you will encounter a KeyError because the key 'foo' does not exist in the dictionary spam."
   ]
  },
  {
   "cell_type": "code",
   "execution_count": 3,
   "id": "be6fc9b2",
   "metadata": {},
   "outputs": [
    {
     "ename": "KeyError",
     "evalue": "'foo'",
     "output_type": "error",
     "traceback": [
      "\u001b[1;31m---------------------------------------------------------------------------\u001b[0m",
      "\u001b[1;31mKeyError\u001b[0m                                  Traceback (most recent call last)",
      "Cell \u001b[1;32mIn[3], line 2\u001b[0m\n\u001b[0;32m      1\u001b[0m spam \u001b[38;5;241m=\u001b[39m {\u001b[38;5;124m'\u001b[39m\u001b[38;5;124mbar\u001b[39m\u001b[38;5;124m'\u001b[39m: \u001b[38;5;241m100\u001b[39m}\n\u001b[1;32m----> 2\u001b[0m value \u001b[38;5;241m=\u001b[39m \u001b[43mspam\u001b[49m\u001b[43m[\u001b[49m\u001b[38;5;124;43m'\u001b[39;49m\u001b[38;5;124;43mfoo\u001b[39;49m\u001b[38;5;124;43m'\u001b[39;49m\u001b[43m]\u001b[49m\n",
      "\u001b[1;31mKeyError\u001b[0m: 'foo'"
     ]
    }
   ],
   "source": [
    "spam = {'bar': 100}\n",
    "value = spam['foo']"
   ]
  },
  {
   "cell_type": "markdown",
   "id": "4d4465a2",
   "metadata": {},
   "source": [
    "5.'cat' in spam:\n",
    "This expression checks whether the key 'cat' exists in the dictionary spam. It evaluates to True if the key is present as a key in the dictionary, and False otherwise. It directly checks for the existence of the key in the dictionary without explicitly referencing the .keys() method.\n",
    "\n",
    "'cat' in spam.keys():\n",
    "This expression checks whether the key 'cat' exists in the list of keys returned by spam.keys(). It evaluates to True if the key is present in the list of keys, and False otherwise. Here, spam.keys() returns a view object that represents the keys of the dictionary. The expression 'cat' in spam.keys() checks if the key is present in this view object.\n",
    "\n",
    "In most cases, the two expressions will yield the same result. However, there is a slight difference in terms of performance and efficiency."
   ]
  },
  {
   "cell_type": "markdown",
   "id": "422356a7",
   "metadata": {},
   "source": [
    "6.'cat' in spam:\n",
    "This expression checks whether the key 'cat' exists in the dictionary spam. It evaluates to True if the key is present as a key in the dictionary, and False otherwise. It directly checks for the existence of the key in the dictionary without referencing the values.\n",
    "\n",
    "'cat' in spam.values():\n",
    "This expression checks whether the value 'cat' exists in the values of the dictionary spam. It evaluates to True if the value is present in any of the dictionary's values, and False otherwise. It searches through the values of the dictionary to determine the presence of the specified value.\n",
    "'cat' in spam checks for the existence of a key, while 'cat' in spam.values() checks for the existence of a value in the dictionary."
   ]
  },
  {
   "cell_type": "code",
   "execution_count": 4,
   "id": "d535bd30",
   "metadata": {},
   "outputs": [
    {
     "name": "stdout",
     "output_type": "stream",
     "text": [
      "False\n",
      "True\n",
      "False\n",
      "True\n"
     ]
    }
   ],
   "source": [
    "spam = {'key1': 'cat', 'key2': 'dog', 'key3': 'bird'}\n",
    "print('cat' in spam)  \n",
    "print('cat' in spam.values())  \n",
    "print('dog' in spam)  \n",
    "print('dog' in spam.values())"
   ]
  },
  {
   "cell_type": "markdown",
   "id": "7703f3ee",
   "metadata": {},
   "source": [
    "7."
   ]
  },
  {
   "cell_type": "code",
   "execution_count": 6,
   "id": "bcfda336",
   "metadata": {},
   "outputs": [
    {
     "data": {
      "text/plain": [
       "'black'"
      ]
     },
     "execution_count": 6,
     "metadata": {},
     "output_type": "execute_result"
    }
   ],
   "source": [
    "spam.setdefault('color', 'black')"
   ]
  },
  {
   "cell_type": "markdown",
   "id": "0c36d0ba",
   "metadata": {},
   "source": [
    "8.To \"pretty print\" dictionary values in Python, we can use the pprint module and its pprint() function. T"
   ]
  },
  {
   "cell_type": "code",
   "execution_count": null,
   "id": "fa25adcc",
   "metadata": {},
   "outputs": [],
   "source": []
  }
 ],
 "metadata": {
  "kernelspec": {
   "display_name": "Python 3 (ipykernel)",
   "language": "python",
   "name": "python3"
  },
  "language_info": {
   "codemirror_mode": {
    "name": "ipython",
    "version": 3
   },
   "file_extension": ".py",
   "mimetype": "text/x-python",
   "name": "python",
   "nbconvert_exporter": "python",
   "pygments_lexer": "ipython3",
   "version": "3.10.9"
  }
 },
 "nbformat": 4,
 "nbformat_minor": 5
}
