{
 "cells": [
  {
   "cell_type": "markdown",
   "id": "fa5e9337",
   "metadata": {},
   "source": [
    "1. Two values of the  Boolean data type\n",
    "   1. true\n",
    "   2.false\n",
    "  In python we write 1.True 2.False"
   ]
  },
  {
   "cell_type": "markdown",
   "id": "82e8b380",
   "metadata": {},
   "source": [
    "2.Three different types of Boolean operators 1.Logical AND operator(and) 2.Logical OR operator(or) 3.Logical NOT operator(not)\n",
    "\n",
    "3.list of each boolean operator's truth table \n",
    "​\n",
    "  operand1       operand2      AND           OR           NOT operand1    NOT operand2\n",
    "    False          False       False         False         True             True\n",
    "    False          True        False         True          True             False\n",
    "    True           False       False         True          False            True\n",
    "    True           True        True          True          False            False\n",
    "    "
   ]
  },
  {
   "cell_type": "markdown",
   "id": "3d95769f",
   "metadata": {},
   "source": [
    "4. 1.(5>4) and (3==5) \n",
    "    False\n",
    "    \n",
    "   2.not(5>4)\n",
    "     False\n",
    "    \n",
    "   3.(5>4) or (3==5) \n",
    "     True\n",
    "    \n",
    "   4.not((5>4) or (3==5))\n",
    "     False\n",
    "\n",
    "   5.(True and True)and(True==False)\n",
    "       False\n",
    " \n",
    "   6.(not False)or (not True)\n",
    "      True"
   ]
  },
  {
   "cell_type": "markdown",
   "id": "86e48815",
   "metadata": {},
   "source": [
    "5.six comparison operators \n",
    "  1. Equal to ('==')\n",
    "  2. Not Equal to('!=')\n",
    "  3. Greater than('>')\n",
    "  4. Less than('<')\n",
    "  5. Greater than or equal to ('>=')\n",
    "  6. Less than or equal to ('<=')"
   ]
  },
  {
   "cell_type": "markdown",
   "id": "e47aaf48",
   "metadata": {},
   "source": [
    "6. Equal to operator('=='):the equal to operator is used to compare the equality of two values.\n",
    "    \n",
    "   Assignment operator('='):the assignment operator is used to assign a value to a variable.\n",
    "    \n",
    "    "
   ]
  },
  {
   "cell_type": "code",
   "execution_count": 1,
   "id": "d100efd1",
   "metadata": {},
   "outputs": [
    {
     "name": "stdout",
     "output_type": "stream",
     "text": [
      "x is equal to 6\n"
     ]
    }
   ],
   "source": [
    "#equal to operator\n",
    "x=6\n",
    "if x==6:\n",
    "    print(\"x is equal to 6\")\n",
    "else:\n",
    "    print(\"x is not equal to 6\")"
   ]
  },
  {
   "cell_type": "code",
   "execution_count": 2,
   "id": "a58a75b2",
   "metadata": {},
   "outputs": [
    {
     "name": "stdout",
     "output_type": "stream",
     "text": [
      "30\n"
     ]
    }
   ],
   "source": [
    "#assignment operator\n",
    "x=10\n",
    "y=x+20\n",
    "print(y)"
   ]
  },
  {
   "cell_type": "raw",
   "id": "3a1e155f",
   "metadata": {},
   "source": [
    "7.three blocks in given code are  1. if   2.elif    3.else"
   ]
  },
  {
   "cell_type": "code",
   "execution_count": 3,
   "id": "afbe283f",
   "metadata": {},
   "outputs": [
    {
     "name": "stdout",
     "output_type": "stream",
     "text": [
      "enter the spam:1\n",
      "Hello\n"
     ]
    }
   ],
   "source": [
    "#8.\n",
    "spam=int(input(\"enter the spam:\"))\n",
    "if spam == 1:\n",
    "    print(\"Hello\")\n",
    "elif spam == 2:\n",
    "    print(\"Howdy\")\n",
    "else:\n",
    "    print(\"Greetings!\")"
   ]
  },
  {
   "cell_type": "markdown",
   "id": "b6ff964b",
   "metadata": {},
   "source": [
    "9. control + c"
   ]
  },
  {
   "cell_type": "markdown",
   "id": "c9299985",
   "metadata": {},
   "source": [
    "10.break is used to prematurely exit a loop.\n",
    "   continue is used to skip the remaining code in the loop for the current iteration and move to the next iteration."
   ]
  },
  {
   "cell_type": "markdown",
   "id": "fae91ae0",
   "metadata": {},
   "source": [
    " 11.in for loop the three forms range(10),range(0,10),range(0,10,1)produce the same sequence of numbers from 0 to 9"
   ]
  },
  {
   "cell_type": "markdown",
   "id": "2e62b15e",
   "metadata": {},
   "source": [
    "12."
   ]
  },
  {
   "cell_type": "code",
   "execution_count": 5,
   "id": "49d2fe27",
   "metadata": {},
   "outputs": [
    {
     "name": "stdout",
     "output_type": "stream",
     "text": [
      "1\n",
      "2\n",
      "3\n",
      "4\n",
      "5\n",
      "6\n",
      "7\n",
      "8\n",
      "9\n",
      "10\n"
     ]
    }
   ],
   "source": [
    "for i in range(1,11):\n",
    "    print(i)"
   ]
  },
  {
   "cell_type": "code",
   "execution_count": 6,
   "id": "1c36dbd6",
   "metadata": {},
   "outputs": [
    {
     "name": "stdout",
     "output_type": "stream",
     "text": [
      "1\n",
      "2\n",
      "3\n",
      "4\n",
      "5\n",
      "6\n",
      "7\n",
      "8\n",
      "9\n",
      "10\n"
     ]
    }
   ],
   "source": [
    "a=1\n",
    "while a<11:\n",
    "    print(a)\n",
    "    a=a+1\n"
   ]
  },
  {
   "cell_type": "code",
   "execution_count": null,
   "id": "8c878832",
   "metadata": {},
   "outputs": [],
   "source": [
    "13.\n",
    "\n",
    "import spam\n",
    "\n",
    "spam.bacon()\n",
    "\n"
   ]
  }
 ],
 "metadata": {
  "kernelspec": {
   "display_name": "Python 3 (ipykernel)",
   "language": "python",
   "name": "python3"
  },
  "language_info": {
   "codemirror_mode": {
    "name": "ipython",
    "version": 3
   },
   "file_extension": ".py",
   "mimetype": "text/x-python",
   "name": "python",
   "nbconvert_exporter": "python",
   "pygments_lexer": "ipython3",
   "version": "3.9.13"
  }
 },
 "nbformat": 4,
 "nbformat_minor": 5
}
