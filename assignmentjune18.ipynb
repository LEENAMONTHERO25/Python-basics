{
 "cells": [
  {
   "cell_type": "markdown",
   "id": "7a2c3f27",
   "metadata": {},
   "source": [
    "1.The else block in a try-except statement is optional and provides a section of code that is executed only if no exceptions occur within the corresponding try block. It allows  to define code that should be executed when the try block completes successfully without any exceptions being raised."
   ]
  },
  {
   "cell_type": "code",
   "execution_count": 1,
   "id": "19c0e744",
   "metadata": {},
   "outputs": [
    {
     "name": "stdout",
     "output_type": "stream",
     "text": [
      "Enter the first number: 23\n",
      "Enter the second number: 34\n",
      "The division was successful.\n",
      "Result: 0.6764705882352942\n"
     ]
    }
   ],
   "source": [
    "try:\n",
    "    # Code that may raise an exception\n",
    "    num1 = int(input(\"Enter the first number: \"))\n",
    "    num2 = int(input(\"Enter the second number: \"))\n",
    "    result = num1 / num2\n",
    "except ValueError:\n",
    "    print(\"Invalid input! Please enter valid numbers.\")\n",
    "except ZeroDivisionError:\n",
    "    print(\"Error: Cannot divide by zero!\")\n",
    "else:\n",
    "    print(\"The division was successful.\")\n",
    "    print(\"Result:\", result)\n"
   ]
  },
  {
   "cell_type": "markdown",
   "id": "ffaae19b",
   "metadata": {},
   "source": [
    "2.Yes, a try-except block can be nested inside another try-except block. This means that you can have an inner try-except block inside an outer try block. This nested structure allows for more granular exception handling and the ability to handle exceptions at different levels of code execution."
   ]
  },
  {
   "cell_type": "code",
   "execution_count": 2,
   "id": "770179d2",
   "metadata": {},
   "outputs": [
    {
     "name": "stdout",
     "output_type": "stream",
     "text": [
      "Enter the first number: 12\n",
      "Enter the second number: 0\n",
      "Error: Cannot divide by zero!\n"
     ]
    }
   ],
   "source": [
    "try:\n",
    "    # Outer try block\n",
    "    num1 = int(input(\"Enter the first number: \"))\n",
    "    num2 = int(input(\"Enter the second number: \"))\n",
    "\n",
    "    try:\n",
    "        # Inner try block\n",
    "        result = num1 / num2\n",
    "        print(\"Result:\", result)\n",
    "    except ZeroDivisionError:\n",
    "        # Inner except block\n",
    "        print(\"Error: Cannot divide by zero!\")\n",
    "except ValueError:\n",
    "    # Outer except block\n",
    "    print(\"Invalid input! Please enter valid numbers.\")\n"
   ]
  },
  {
   "cell_type": "markdown",
   "id": "056a582e",
   "metadata": {},
   "source": [
    "In this example, the outer try block attempts to convert user input to integers. If the user enters invalid input, a ValueError occurs, and the outer except block handles it. If the user enters valid numbers, the inner try block performs the division operation. If the second number entered is zero, a ZeroDivisionError occurs, and the inner except block handles it."
   ]
  },
  {
   "cell_type": "markdown",
   "id": "65cb36f9",
   "metadata": {},
   "source": [
    "3.In Python, we can create custom exception classes by inheriting from the built-in Exception class or any other existing exception class. By doing this, we can define our own exception with custom behavior and error messages."
   ]
  },
  {
   "cell_type": "code",
   "execution_count": 3,
   "id": "4d89836c",
   "metadata": {},
   "outputs": [
    {
     "name": "stdout",
     "output_type": "stream",
     "text": [
      "An error occurred: CustomError: Division by zero is not allowed.\n"
     ]
    }
   ],
   "source": [
    "class CustomError(Exception):\n",
    "    def __init__(self, message):\n",
    "        super().__init__(message)\n",
    "        self.message = message\n",
    "\n",
    "    def __str__(self):\n",
    "        return f\"CustomError: {self.message}\"\n",
    "\n",
    "\n",
    "def divide(a, b):\n",
    "    if b == 0:\n",
    "        raise CustomError(\"Division by zero is not allowed.\")\n",
    "    return a / b\n",
    "\n",
    "\n",
    "# Example of using the custom exception:\n",
    "try:\n",
    "    result = divide(10, 0)\n",
    "    print(f\"The result of the division is: {result}\")\n",
    "except CustomError as e:\n",
    "    print(f\"An error occurred: {e}\")\n"
   ]
  },
  {
   "cell_type": "markdown",
   "id": "b8191bad",
   "metadata": {},
   "source": [
    "4.some common built-in exceptions in Python:\n",
    "\n",
    "SyntaxError: Raised when a syntax error occurs in the code.\n",
    "\n",
    "IndentationError: Raised when there's an incorrect indentation in the code.\n",
    "\n",
    "TypeError: Raised when an operation or function is applied to an object of an inappropriate type.\n",
    "\n",
    "NameError: Raised when a variable name is not found in the current scope.\n",
    "\n",
    "ValueError: Raised when a function receives an argument of the correct type but an inappropriate value.\n",
    "\n",
    "ZeroDivisionError: Raised when attempting to divide by zero.\n",
    "\n",
    "IndexError: Raised when a sequence subscript is out of range.\n",
    "\n",
    "KeyError: Raised when a dictionary key is not found.\n",
    "\n",
    "FileNotFoundError: Raised when trying to access a file that does not exist.\n",
    "\n",
    "ImportError: Raised when a module or package cannot be imported.\n",
    "\n",
    "AttributeError: Raised when an object does not have the specified attribute.\n",
    "\n",
    "OverflowError: Raised when the result of an arithmetic operation is too large to be expressed."
   ]
  },
  {
   "cell_type": "markdown",
   "id": "38e49f80",
   "metadata": {},
   "source": [
    "5.In Python, logging is a built-in module that provides a flexible and powerful way to track and manage messages generated during the execution of a program. It allows developers to record information, warnings, errors, and other relevant messages to various outputs, such as the console, files, or network sockets. The logging module is part of the Python Standard Library, and it's widely used in software development for various reasons.\n",
    "\n",
    "Here's why logging is important in software development:\n",
    "\n",
    "Debugging and Troubleshooting: When issues or errors occur in a software application, logs provide valuable information about what happened, when, and why. Developers can use these logs to identify the source of problems and debug their code effectively.\n",
    "\n",
    "Monitoring and Analysis: In production environments, software applications can generate a massive amount of log data. This data can be analyzed to monitor application performance, identify patterns, detect anomalies, and make data-driven decisions for optimization and scaling.\n",
    "\n",
    "Auditing and Compliance: In many industries, software applications need to comply with specific regulations or requirements. Logging helps in maintaining an audit trail, ensuring data integrity, and providing evidence of activities performed in the system.\n",
    "\n",
    "Record Keeping: Logs act as a historical record of events that occurred in the application. This can be useful for tracking user actions, system events, and other relevant information.\n",
    "\n",
    "Error Reporting: When applications run in the field, unexpected errors may occur. With logging, developers can collect error information and stack traces, which can be used for error reporting and improving the application's stability.\n",
    "\n",
    "Performance Optimization: By analyzing logs, developers can identify performance bottlenecks, memory leaks, or inefficient code paths, leading to performance optimization opportunities.\n",
    "\n",
    "Security Analysis: Logs can help detect and respond to security-related events, such as unauthorized access attempts or potential security breaches."
   ]
  },
  {
   "cell_type": "markdown",
   "id": "56887a60",
   "metadata": {},
   "source": [
    "6.Here are the common log levels in Python logging, along with examples of when each level would be appropriate:\n",
    "\n",
    "DEBUG:\n",
    "\n",
    "Purpose: The lowest log level, used for providing detailed information during development and debugging.\n",
    "\n",
    "Example: Recording variable values, function calls, or flow control details that can be helpful in diagnosing issues during development."
   ]
  },
  {
   "cell_type": "code",
   "execution_count": 4,
   "id": "2b96e429",
   "metadata": {},
   "outputs": [
    {
     "name": "stderr",
     "output_type": "stream",
     "text": [
      "DEBUG:root:This is a debug message.\n"
     ]
    }
   ],
   "source": [
    "import logging\n",
    "\n",
    "logging.basicConfig(level=logging.DEBUG)\n",
    "logging.debug(\"This is a debug message.\")\n"
   ]
  },
  {
   "cell_type": "markdown",
   "id": "a09a0537",
   "metadata": {},
   "source": [
    "INFO:\n",
    "\n",
    "Purpose: Used to provide informational messages during normal program execution.\n",
    "\n",
    "Example: Displaying status updates or relevant information about the application's state."
   ]
  },
  {
   "cell_type": "code",
   "execution_count": 5,
   "id": "cbe36563",
   "metadata": {},
   "outputs": [
    {
     "name": "stderr",
     "output_type": "stream",
     "text": [
      "INFO:root:Application started.\n"
     ]
    }
   ],
   "source": [
    "import logging\n",
    "\n",
    "logging.basicConfig(level=logging.INFO)\n",
    "logging.info(\"Application started.\")\n"
   ]
  },
  {
   "cell_type": "markdown",
   "id": "a29b7fa8",
   "metadata": {},
   "source": [
    "WARNING:\n",
    "\n",
    "Purpose: Used to indicate potential issues or non-fatal problems that do not prevent the application from functioning but may need attention.\n",
    "\n",
    "Example: Warnings about deprecated functions or potential misuse of API calls."
   ]
  },
  {
   "cell_type": "code",
   "execution_count": 6,
   "id": "a250fb36",
   "metadata": {},
   "outputs": [
    {
     "name": "stderr",
     "output_type": "stream",
     "text": [
      "WARNING:root:Resource limit exceeded. Continuing with reduced performance.\n"
     ]
    }
   ],
   "source": [
    "import logging\n",
    "\n",
    "logging.basicConfig(level=logging.WARNING)\n",
    "logging.warning(\"Resource limit exceeded. Continuing with reduced performance.\")\n"
   ]
  },
  {
   "cell_type": "markdown",
   "id": "eec2e968",
   "metadata": {},
   "source": [
    "ERROR:\n",
    "\n",
    "Purpose: Used to report errors that cause the application to behave unexpectedly but do not stop the program entirely.\n",
    "    \n",
    "Example: Errors due to incorrect user input or database connection failures."
   ]
  },
  {
   "cell_type": "code",
   "execution_count": 7,
   "id": "c92e0bc8",
   "metadata": {},
   "outputs": [
    {
     "name": "stderr",
     "output_type": "stream",
     "text": [
      "ERROR:root:Failed to connect to the database.\n"
     ]
    }
   ],
   "source": [
    "import logging\n",
    "\n",
    "logging.basicConfig(level=logging.ERROR)\n",
    "logging.error(\"Failed to connect to the database.\")\n"
   ]
  },
  {
   "cell_type": "markdown",
   "id": "91018ca3",
   "metadata": {},
   "source": [
    "CRITICAL:\n",
    "\n",
    "Purpose: The highest log level, used to indicate critical errors that lead to the application's termination or catastrophic failures.\n",
    "\n",
    "Example: Unrecoverable errors, unexpected system failures, or security breaches."
   ]
  },
  {
   "cell_type": "code",
   "execution_count": 8,
   "id": "77a61425",
   "metadata": {},
   "outputs": [
    {
     "name": "stderr",
     "output_type": "stream",
     "text": [
      "CRITICAL:root:System is shutting down due to a critical error.\n"
     ]
    }
   ],
   "source": [
    "import logging\n",
    "\n",
    "logging.basicConfig(level=logging.CRITICAL)\n",
    "logging.critical(\"System is shutting down due to a critical error.\")\n"
   ]
  },
  {
   "cell_type": "markdown",
   "id": "a440d496",
   "metadata": {},
   "source": [
    "7.n Python logging, log formatters are responsible for defining the format of log messages before they are emitted to the specified log destinations (such as the console or log files). The log formatter is an optional component in the logging process that allows developers to customize the appearance of log messages by specifying the desired log message format.\n",
    "\n",
    "To customize the log message format using formatters, you need to perform the following steps:\n",
    "\n",
    "Create a formatter object using the logging.Formatter class and specify the desired log message format using placeholders and formatting codes.\n",
    "\n",
    "Attach the formatter to the logger's handler using the setFormatter method.\n",
    "\n",
    "Here's an example of how to customize the log message format using formatters:\n",
    "\n"
   ]
  },
  {
   "cell_type": "code",
   "execution_count": 9,
   "id": "9facb2ee",
   "metadata": {},
   "outputs": [
    {
     "name": "stderr",
     "output_type": "stream",
     "text": [
      "2023-07-18 16:58:00,904 - INFO - 2213724419 - The result of the division is: 5.0\n",
      "INFO:my_logger:The result of the division is: 5.0\n",
      "2023-07-18 16:58:00,906 - ERROR - 2213724419 - Division by zero is not allowed.\n",
      "ERROR:my_logger:Division by zero is not allowed.\n"
     ]
    }
   ],
   "source": [
    "import logging\n",
    "\n",
    "# Create a custom log formatter\n",
    "log_formatter = logging.Formatter('%(asctime)s - %(levelname)s - %(module)s - %(message)s')\n",
    "\n",
    "# Create a logger and set its level\n",
    "logger = logging.getLogger('my_logger')\n",
    "logger.setLevel(logging.DEBUG)\n",
    "\n",
    "# Create a console handler and attach the custom formatter\n",
    "console_handler = logging.StreamHandler()\n",
    "console_handler.setFormatter(log_formatter)\n",
    "\n",
    "# Add the handler to the logger\n",
    "logger.addHandler(console_handler)\n",
    "\n",
    "# Example usage of the logger\n",
    "def divide(a, b):\n",
    "    try:\n",
    "        result = a / b\n",
    "        logger.info(f\"The result of the division is: {result}\")\n",
    "    except ZeroDivisionError:\n",
    "        logger.error(\"Division by zero is not allowed.\")\n",
    "\n",
    "divide(10, 2)\n",
    "divide(10, 0)\n"
   ]
  },
  {
   "cell_type": "markdown",
   "id": "d882749f",
   "metadata": {},
   "source": [
    "8.To capture log messages from multiple modules or classes in a Python application, we can follow these steps:\n",
    "\n",
    "Create a Centralized Logger: Create a centralized logger instance that will be used by all modules and classes within your application. This ensures that all log messages are funneled through the same logger, making it easier to manage and configure the logging behavior.\n",
    "\n",
    "Configure the Logger: Set the logging level and add appropriate handlers to the logger. Handlers determine where log messages are sent, such as the console, log files, or remote servers. You can customize log formatters for each handler to control the log message format.\n",
    "\n",
    "Import and Use the Logger: Import the centralized logger in each module or class where you want to log messages. Then, use the logger to log messages with different log levels (e.g., DEBUG, INFO, WARNING, ERROR, CRITICAL) as needed.\n",
    "\n"
   ]
  },
  {
   "cell_type": "markdown",
   "id": "381dd7ff",
   "metadata": {},
   "source": [
    "9.Both logging and print statements in Python serve the purpose of outputting information, but they are designed for different use cases and have distinct features and behaviors.\n",
    "\n",
    "Logging:\n",
    "\n",
    "Purpose: Logging is primarily used for producing a record of events or messages during the execution of a program. It is intended for developers and system administrators to monitor, analyze, and debug the application's behavior.\n",
    "\n",
    "Levels: Logging provides different log levels (DEBUG, INFO, WARNING, ERROR, CRITICAL) to categorize messages based on their severity or importance.\n",
    "\n",
    "Configurability: The logging module in Python allows you to configure different logging handlers, formatters, and filters, enabling you to control where log messages are sent, how they are formatted, and what messages get logged.\n",
    "\n",
    "Control: Logging allows you to enable or disable specific log levels or even specific loggers in different parts of the application. This helps in reducing or increasing the verbosity of logs depending on the deployment environment or user preferences.\n",
    "\n",
    "Print Statements:\n",
    "\n",
    "Purpose: The print statement is mainly used for basic debugging and quick output to the console. It is generally less formal than logging and is not intended for long-term use or logging critical application events.\n",
    "\n",
    "Output: Print statements simply print messages to the standard output (usually the console) and do not provide any categorization or filtering capabilities.\n",
    "\n",
    "Debugging: While print statements can be helpful for quick and temporary debugging, they lack the structured approach and configurability offered by the logging module. If you forget to remove print statements after debugging, they can clutter the code and impact performance.\n",
    "\n",
    "When to Use Logging over Print Statements in a Real-World Application:\n",
    "\n",
    "Structured Logging: In a real-world application, logging is essential for structured and organized output of events. It allows you to categorize log messages based on severity and filter them as needed, making it easier to analyze and diagnose issues.\n",
    "\n",
    "Debugging and Maintenance: During development, you can use logging to understand the flow of your application, identify bugs, and trace the execution paths. Unlike print statements, you can leave logging statements in the code and adjust the log level to control the level of detail shown.\n",
    "\n",
    "Production Environment: In production environments, using print statements can result in unwanted output and potential performance issues. Logging allows you to control log verbosity, reduce noise, and redirect logs to files or remote servers for centralized monitoring.\n",
    "\n",
    "Error Reporting: Logging provides more robust error reporting and stack traces for exceptions, making it easier to identify the root cause of issues in the application."
   ]
  },
  {
   "cell_type": "markdown",
   "id": "ce4a6cfd",
   "metadata": {},
   "source": [
    "10."
   ]
  },
  {
   "cell_type": "code",
   "execution_count": 16,
   "id": "8dccb55a",
   "metadata": {},
   "outputs": [
    {
     "name": "stderr",
     "output_type": "stream",
     "text": [
      "2023-07-18 17:50:46,104 - INFO - 1026495171 - Hello, World!\n",
      "INFO:my_logger:Hello, World!\n"
     ]
    }
   ],
   "source": [
    "import logging\n",
    "\n",
    "def setup_logger():\n",
    "    # Create a logger\n",
    "    logger = logging.getLogger('my_logger')\n",
    "    logger.setLevel(logging.INFO)\n",
    "\n",
    "    # Create a file handler and set it to append mode\n",
    "    file_handler = logging.FileHandler('app.log', mode='a')\n",
    "    \n",
    "    # Create a formatter\n",
    "    log_formatter = logging.Formatter('%(asctime)s - %(levelname)s - %(message)s')\n",
    "\n",
    "    # Set the formatter for the file handler\n",
    "    file_handler.setFormatter(log_formatter)\n",
    "\n",
    "    # Add the file handler to the logger\n",
    "    logger.addHandler(file_handler)\n",
    "\n",
    "    return logger\n",
    "\n",
    "def main():\n",
    "    logger = setup_logger()\n",
    "\n",
    "    # Log the message \"Hello, World!\" with the INFO log level\n",
    "    logger.info(\"Hello, World!\")\n",
    "\n",
    "if __name__ == \"__main__\":\n",
    "    main()\n"
   ]
  },
  {
   "cell_type": "markdown",
   "id": "1941bc1f",
   "metadata": {},
   "source": [
    "11."
   ]
  },
  {
   "cell_type": "code",
   "execution_count": 17,
   "id": "b550eea7",
   "metadata": {},
   "outputs": [
    {
     "name": "stderr",
     "output_type": "stream",
     "text": [
      "2023-07-18 17:53:02,969 - ERROR - Exception occurred: ZeroDivisionError\n",
      "ERROR:error_logger:Exception occurred: ZeroDivisionError\n",
      "2023-07-18 17:53:02,987 - ERROR - Traceback (most recent call last):\n",
      "  File \"C:\\Users\\leena\\AppData\\Local\\Temp\\ipykernel_22188\\1756394588.py\", line 32, in main\n",
      "    x = 10 / 0\n",
      "ZeroDivisionError: division by zero\n",
      "\n",
      "ERROR:error_logger:Traceback (most recent call last):\n",
      "  File \"C:\\Users\\leena\\AppData\\Local\\Temp\\ipykernel_22188\\1756394588.py\", line 32, in main\n",
      "    x = 10 / 0\n",
      "ZeroDivisionError: division by zero\n",
      "\n"
     ]
    }
   ],
   "source": [
    "import logging\n",
    "import traceback\n",
    "import datetime\n",
    "\n",
    "def setup_logger():\n",
    "    # Create a logger\n",
    "    logger = logging.getLogger('error_logger')\n",
    "    logger.setLevel(logging.ERROR)\n",
    "\n",
    "    # Create a console handler\n",
    "    console_handler = logging.StreamHandler()\n",
    "    logger.addHandler(console_handler)\n",
    "\n",
    "    # Create a file handler for \"errors.log\" and set it to append mode\n",
    "    file_handler = logging.FileHandler('errors.log', mode='a')\n",
    "    logger.addHandler(file_handler)\n",
    "\n",
    "    # Create a formatter\n",
    "    log_formatter = logging.Formatter('%(asctime)s - %(levelname)s - %(message)s')\n",
    "\n",
    "    # Set the formatter for both handlers\n",
    "    console_handler.setFormatter(log_formatter)\n",
    "    file_handler.setFormatter(log_formatter)\n",
    "\n",
    "    return logger\n",
    "\n",
    "def main():\n",
    "    logger = setup_logger()\n",
    "\n",
    "    try:\n",
    "        # Code that might raise an exception\n",
    "        x = 10 / 0\n",
    "    except Exception as e:\n",
    "        # Log the exception type and timestamp as an error message\n",
    "        error_message = f\"Exception occurred: {type(e).__name__}\"\n",
    "        logger.error(error_message)\n",
    "\n",
    "        # Log the full traceback to the console and file\n",
    "        logger.error(traceback.format_exc())\n",
    "\n",
    "if __name__ == \"__main__\":\n",
    "    main()\n"
   ]
  },
  {
   "cell_type": "code",
   "execution_count": null,
   "id": "46c3641c",
   "metadata": {},
   "outputs": [],
   "source": []
  }
 ],
 "metadata": {
  "kernelspec": {
   "display_name": "Python 3 (ipykernel)",
   "language": "python",
   "name": "python3"
  },
  "language_info": {
   "codemirror_mode": {
    "name": "ipython",
    "version": 3
   },
   "file_extension": ".py",
   "mimetype": "text/x-python",
   "name": "python",
   "nbconvert_exporter": "python",
   "pygments_lexer": "ipython3",
   "version": "3.10.9"
  }
 },
 "nbformat": 4,
 "nbformat_minor": 5
}
