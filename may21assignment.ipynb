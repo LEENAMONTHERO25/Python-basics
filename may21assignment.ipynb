{
 "cells": [
  {
   "cell_type": "markdown",
   "id": "7a110224",
   "metadata": {},
   "source": [
    "1."
   ]
  },
  {
   "cell_type": "code",
   "execution_count": 1,
   "id": "6d6aa47c",
   "metadata": {},
   "outputs": [
    {
     "name": "stdout",
     "output_type": "stream",
     "text": [
      "First variable is 10 & second variable is 5\n",
      "Addition: 10 + 5 = 15\n",
      "Subtraction: 10 - 5 = 5\n",
      "Multiplication: 10 * 5 = 50\n",
      "Division: 10 / 5 = 2.0\n"
     ]
    }
   ],
   "source": [
    "# Create two int type variables\n",
    "first_variable = 10\n",
    "second_variable = 5\n",
    "\n",
    "# Perform addition, subtraction, multiplication, and division\n",
    "addition = first_variable + second_variable\n",
    "subtraction = first_variable - second_variable\n",
    "multiplication = first_variable * second_variable\n",
    "division = first_variable / second_variable\n",
    "\n",
    "# Print the results in the desired format\n",
    "print(\"First variable is\", first_variable, \"& second variable is\", second_variable)\n",
    "print(\"Addition:\", first_variable, \"+\", second_variable, \"=\", addition)\n",
    "print(\"Subtraction:\", first_variable, \"-\", second_variable, \"=\", subtraction)\n",
    "print(\"Multiplication:\", first_variable, \"*\", second_variable, \"=\", multiplication)\n",
    "print(\"Division:\", first_variable, \"/\", second_variable, \"=\", division)\n"
   ]
  },
  {
   "cell_type": "markdown",
   "id": "0f89dbae",
   "metadata": {},
   "source": [
    "2./ is the division operator in Python. It performs floating-point division and returns the result as a float, regardless of the operands' types.\n",
    "\n",
    "// is the floor division operator in Python. It performs integer division and returns the result as an integer, rounding down the quotient to the nearest integer."
   ]
  },
  {
   "cell_type": "code",
   "execution_count": 2,
   "id": "ab3b3df8",
   "metadata": {},
   "outputs": [
    {
     "name": "stdout",
     "output_type": "stream",
     "text": [
      "3.3333333333333335\n",
      "3\n"
     ]
    }
   ],
   "source": [
    "a = 10\n",
    "b = 3\n",
    "\n",
    "result1 = a / b\n",
    "result2 = a // b\n",
    "\n",
    "print(result1) \n",
    "print(result2)  \n"
   ]
  },
  {
   "cell_type": "markdown",
   "id": "50f4f01a",
   "metadata": {},
   "source": [
    "** is the exponentiation operator in Python. It raises the first operand to the power of the second operand.\n",
    "\n",
    "^ it is the bitwise XOR (exclusive OR) operator. It performs a bitwise XOR operation on the binary representations of the operands."
   ]
  },
  {
   "cell_type": "code",
   "execution_count": 5,
   "id": "312a5e66",
   "metadata": {},
   "outputs": [
    {
     "name": "stdout",
     "output_type": "stream",
     "text": [
      "8\n",
      "1\n"
     ]
    }
   ],
   "source": [
    "a = 2\n",
    "b = 3\n",
    "\n",
    "result1 = a ** b\n",
    "result2 = a ^ b\n",
    "\n",
    "print(result1) \n",
    "print(result2)  "
   ]
  },
  {
   "cell_type": "markdown",
   "id": "37d0513c",
   "metadata": {},
   "source": [
    "3. In Python, the logical operators are used to perform logical operations on Boolean values (True or False). Here are the logical operators in Python:\n",
    "\n",
    "and: Returns True if both operands are True, otherwise returns False.\n",
    "\n",
    "or: Returns True if at least one of the operands is True, otherwise returns False.\n",
    "\n",
    "not: Returns the opposite of the operand. If the operand is True, it returns False, and if the operand is False, it returns True."
   ]
  },
  {
   "cell_type": "markdown",
   "id": "84b4f771",
   "metadata": {},
   "source": [
    "4.Right Shift Operator (>>):\n",
    "\n",
    "The right shift operator (>>) moves the bits of a number to the right by a specified number of positions. \n",
    "\n",
    "The vacant positions on the left are filled with zeros. Each shift to the right is equivalent to dividing the number by 2."
   ]
  },
  {
   "cell_type": "code",
   "execution_count": 6,
   "id": "2e6288bd",
   "metadata": {},
   "outputs": [
    {
     "name": "stdout",
     "output_type": "stream",
     "text": [
      "5\n"
     ]
    }
   ],
   "source": [
    "x = 10  # Binary: 1010\n",
    "result = x >> 1\n",
    "print(result)  "
   ]
  },
  {
   "cell_type": "markdown",
   "id": "1ca03f18",
   "metadata": {},
   "source": [
    "Left Shift Operator (<<):\n",
    "\n",
    "The left shift operator (<<) moves the bits of a number to the left by a specified number of positions.\n",
    "\n",
    "The vacant positions on the right are filled with zeros. Each shift to the left is equivalent to multiplying the number by 2."
   ]
  },
  {
   "cell_type": "code",
   "execution_count": 7,
   "id": "a6adf1f4",
   "metadata": {},
   "outputs": [
    {
     "name": "stdout",
     "output_type": "stream",
     "text": [
      "20\n"
     ]
    }
   ],
   "source": [
    "x = 5  # Binary: 0101\n",
    "result = x << 2\n",
    "print(result)  \n"
   ]
  },
  {
   "cell_type": "markdown",
   "id": "b16f452a",
   "metadata": {},
   "source": [
    "5."
   ]
  },
  {
   "cell_type": "code",
   "execution_count": 9,
   "id": "364fb9cd",
   "metadata": {},
   "outputs": [
    {
     "name": "stdout",
     "output_type": "stream",
     "text": [
      "10 is present in the list.\n"
     ]
    }
   ],
   "source": [
    "# Create a list of integers\n",
    "my_list = [5, 2, 8, 15, 3, 7, 12, 10, 1, 6, 9, 4, 11, 13, 14]\n",
    "\n",
    "# Check if 10 is present in the list\n",
    "if 10 in my_list:\n",
    "    print(\"10 is present in the list.\")\n",
    "else:\n",
    "    print(\"10 is not present in the list.\")\n"
   ]
  },
  {
   "cell_type": "code",
   "execution_count": null,
   "id": "281db875",
   "metadata": {},
   "outputs": [],
   "source": []
  }
 ],
 "metadata": {
  "kernelspec": {
   "display_name": "Python 3 (ipykernel)",
   "language": "python",
   "name": "python3"
  },
  "language_info": {
   "codemirror_mode": {
    "name": "ipython",
    "version": 3
   },
   "file_extension": ".py",
   "mimetype": "text/x-python",
   "name": "python",
   "nbconvert_exporter": "python",
   "pygments_lexer": "ipython3",
   "version": "3.10.9"
  }
 },
 "nbformat": 4,
 "nbformat_minor": 5
}
