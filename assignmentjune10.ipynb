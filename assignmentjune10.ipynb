{
 "cells": [
  {
   "cell_type": "markdown",
   "id": "c4ad39e1",
   "metadata": {},
   "source": [
    "1.In Python, a built-in function refers to a function that is pre-defined in the Python language itself and is readily available for use without the need for additional code or module imports. \n",
    "\n",
    "On the other hand, a user-defined function is created by the programmer to perform a specific task or set of tasks based on their requirements."
   ]
  },
  {
   "cell_type": "code",
   "execution_count": 1,
   "id": "d123ac9e",
   "metadata": {},
   "outputs": [
    {
     "name": "stdout",
     "output_type": "stream",
     "text": [
      "13\n"
     ]
    }
   ],
   "source": [
    "# Example of a built-in function: len()\n",
    "string = \"Hello, world!\"\n",
    "length = len(string)\n",
    "print(length)  \n"
   ]
  },
  {
   "cell_type": "code",
   "execution_count": 2,
   "id": "8a8952cc",
   "metadata": {},
   "outputs": [
    {
     "name": "stdout",
     "output_type": "stream",
     "text": [
      "8\n"
     ]
    }
   ],
   "source": [
    "# Example of a user-defined function: add_numbers()\n",
    "def add_numbers(a, b):\n",
    "    return a + b\n",
    "\n",
    "result = add_numbers(5, 3)\n",
    "print(result)  \n"
   ]
  },
  {
   "cell_type": "markdown",
   "id": "daf6576f",
   "metadata": {},
   "source": [
    "2.In Python, we can pass arguments to a function in several ways. The two main ways to pass arguments to a function are positional arguments and keyword arguments.\n",
    "\n",
    "Positional Arguments:\n",
    "Positional arguments are passed to a function based on their position or order. The function receives the arguments in the same order as they are passed. The number of positional arguments passed must match the number of parameters defined by the function."
   ]
  },
  {
   "cell_type": "code",
   "execution_count": 1,
   "id": "b31eeb44",
   "metadata": {},
   "outputs": [
    {
     "name": "stdout",
     "output_type": "stream",
     "text": [
      "8\n"
     ]
    }
   ],
   "source": [
    "def add_numbers(a, b):\n",
    "    return a + b\n",
    "\n",
    "result = add_numbers(3, 5)\n",
    "print(result) "
   ]
  },
  {
   "cell_type": "markdown",
   "id": "0e5b78a8",
   "metadata": {},
   "source": [
    "Keyword Arguments:\n",
    "Keyword arguments are passed to a function using their corresponding parameter names.  we  mention the parameter name along with its value. This allows us to pass arguments to a function in any order and also provides flexibility by allowing us to omit certain arguments.\n"
   ]
  },
  {
   "cell_type": "code",
   "execution_count": 2,
   "id": "205c0686",
   "metadata": {},
   "outputs": [
    {
     "name": "stdout",
     "output_type": "stream",
     "text": [
      "Hello, Reena! How are you?\n",
      "Hello, Kiran! Have a nice day!\n"
     ]
    }
   ],
   "source": [
    "def greet(name, message):\n",
    "    print(f\"Hello, {name}! {message}\")\n",
    "\n",
    "greet(name=\"Reena\", message=\"How are you?\")\n",
    "greet(message=\"Have a nice day!\", name=\"Kiran\")"
   ]
  },
  {
   "cell_type": "markdown",
   "id": "10074281",
   "metadata": {},
   "source": [
    "3.The purpose of the return statement in a function is to specify the value that the function will evaluate to and provide as its result. When a return statement is encountered in a function, it immediately terminates the execution of the function and returns the specified value.\n",
    "\n",
    "The return statement allows us to send data back from a function to the caller, making the function's output accessible for further processing or assignment to variables.\n",
    "\n",
    "A function can have multiple return statements, and the one that gets executed depends on the specific condition or flow of the function. Once a return statement is executed, the function exits, and any subsequent code in the function is not executed."
   ]
  },
  {
   "cell_type": "code",
   "execution_count": 3,
   "id": "3a0dab6b",
   "metadata": {},
   "outputs": [
    {
     "name": "stdout",
     "output_type": "stream",
     "text": [
      "Positive\n",
      "Negative\n",
      "Zero\n"
     ]
    }
   ],
   "source": [
    "def check_number(number):\n",
    "    if number > 0:\n",
    "        return \"Positive\"\n",
    "    elif number < 0:\n",
    "        return \"Negative\"\n",
    "    else:\n",
    "        return \"Zero\"\n",
    "\n",
    "result1 = check_number(5)\n",
    "result2 = check_number(-3)\n",
    "result3 = check_number(0)\n",
    "\n",
    "print(result1) \n",
    "print(result2)  \n",
    "print(result3) \n"
   ]
  },
  {
   "cell_type": "markdown",
   "id": "91a50481",
   "metadata": {},
   "source": [
    "It's important to note that once a return statement is encountered, the function execution terminates, and any remaining code in the function is skipped. Therefore, in functions with multiple return statements, we need to ensure that the appropriate return statement is reached based on the desired logic and conditions."
   ]
  },
  {
   "cell_type": "markdown",
   "id": "6f1b59fe",
   "metadata": {},
   "source": [
    "4.Lambda functions, also known as anonymous functions, are a concise way to define small, one-line functions in Python. \n",
    " general syntax of a lambda function:\n",
    " lambda arguments: expression\n",
    " The key differences between lambda functions and regular functions are:\n",
    "\n",
    "Syntax: Lambda functions are defined using the lambda keyword followed by the arguments and a colon, whereas regular functions are defined using the def keyword, a function name, parentheses for arguments, and a colon.\n",
    "\n",
    "Function Name: Lambda functions are anonymous and don't have a specific name. They are typically used where they are defined or assigned to variables. Regular functions, on the other hand, have a name that can be used to call or refer to them.\n",
    "\n",
    "Size and Simplicity: Lambda functions are typically used for small, simple operations. They are concise and meant to provide a short expression-based solution without the need for a full-fledged function definition. Regular functions are more suitable for complex operations or when reusability is required."
   ]
  },
  {
   "cell_type": "code",
   "execution_count": 4,
   "id": "842a5d7f",
   "metadata": {},
   "outputs": [
    {
     "name": "stdout",
     "output_type": "stream",
     "text": [
      "[1, 4, 9, 16, 25]\n"
     ]
    }
   ],
   "source": [
    "numbers = [1, 2, 3, 4, 5]\n",
    "\n",
    "# Using a lambda function with the map() function\n",
    "squared_numbers = list(map(lambda x: x ** 2, numbers))\n",
    "\n",
    "print(squared_numbers)  \n"
   ]
  },
  {
   "cell_type": "markdown",
   "id": "0574f875",
   "metadata": {},
   "source": [
    "5.The concept of \"scope\" in Python refers to the region or context in which variables and names are defined and accessible. The scope determines the visibility and lifetime of variables, and it helps prevent naming conflicts and manage variable access within different parts of the code."
   ]
  },
  {
   "cell_type": "markdown",
   "id": "ae254b75",
   "metadata": {},
   "source": [
    "the difference between local scope and global scope.\n",
    "\n",
    "Local Scope:\n",
    "\n",
    "Local scope refers to the region within a function where variables are defined. Variables defined within a function have local scope and are accessible only within that function. These variables are known as local variables. Once the function finishes execution, the local variables are destroyed, and their scope ends.\n"
   ]
  },
  {
   "cell_type": "code",
   "execution_count": 5,
   "id": "94964dfc",
   "metadata": {},
   "outputs": [
    {
     "name": "stdout",
     "output_type": "stream",
     "text": [
      "10\n"
     ]
    },
    {
     "ename": "NameError",
     "evalue": "name 'x' is not defined",
     "output_type": "error",
     "traceback": [
      "\u001b[1;31m---------------------------------------------------------------------------\u001b[0m",
      "\u001b[1;31mNameError\u001b[0m                                 Traceback (most recent call last)",
      "Cell \u001b[1;32mIn[5], line 6\u001b[0m\n\u001b[0;32m      3\u001b[0m     \u001b[38;5;28mprint\u001b[39m(x)\n\u001b[0;32m      5\u001b[0m my_function() \n\u001b[1;32m----> 6\u001b[0m \u001b[38;5;28mprint\u001b[39m(\u001b[43mx\u001b[49m)\n",
      "\u001b[1;31mNameError\u001b[0m: name 'x' is not defined"
     ]
    }
   ],
   "source": [
    "def my_function():\n",
    "    x = 10  # Local variable\n",
    "    print(x)\n",
    "\n",
    "my_function() \n",
    "print(x)      \n"
   ]
  },
  {
   "cell_type": "markdown",
   "id": "0b886952",
   "metadata": {},
   "source": [
    "Global Scope:\n",
    "\n",
    "Global scope refers to the outermost level of the program, outside any functions. Variables defined outside functions have global scope and are accessible from any part of the code, including within functions. These variables are known as global variables. They exist throughout the entire execution of the program."
   ]
  },
  {
   "cell_type": "code",
   "execution_count": 8,
   "id": "aef59638",
   "metadata": {},
   "outputs": [
    {
     "name": "stdout",
     "output_type": "stream",
     "text": [
      "10\n",
      "10\n"
     ]
    }
   ],
   "source": [
    "x = 10  # Global variable\n",
    "\n",
    "def my_function():\n",
    "    print(x) \n",
    "\n",
    "my_function()\n",
    "print(x)\n"
   ]
  },
  {
   "cell_type": "markdown",
   "id": "db9eced2",
   "metadata": {},
   "source": [
    "6.we can return multiple values from a function by using various techniques such as returning a tuple, a list, or multiple comma-separated values.\n",
    "\n",
    "Returning a Tuple:\n",
    "\n",
    "You can use a tuple to return multiple values from a function. "
   ]
  },
  {
   "cell_type": "code",
   "execution_count": 9,
   "id": "b94bdaa4",
   "metadata": {},
   "outputs": [
    {
     "name": "stdout",
     "output_type": "stream",
     "text": [
      "Alice\n",
      "30\n",
      "New York\n"
     ]
    }
   ],
   "source": [
    "def get_person_details():\n",
    "    name = \"Alice\"\n",
    "    age = 30\n",
    "    city = \"New York\"\n",
    "    return name, age, city\n",
    "\n",
    "person_tuple = get_person_details()\n",
    "name, age, city = person_tuple\n",
    "\n",
    "print(name)  \n",
    "print(age)   \n",
    "print(city)  \n"
   ]
  },
  {
   "cell_type": "markdown",
   "id": "7d1255b4",
   "metadata": {},
   "source": [
    "Returning a List:\n",
    "\n",
    "Similar to using a tuple, we can use a list to return multiple values from a function."
   ]
  },
  {
   "cell_type": "code",
   "execution_count": 10,
   "id": "cad68362",
   "metadata": {},
   "outputs": [
    {
     "name": "stdout",
     "output_type": "stream",
     "text": [
      "[1, 2, 3, 4, 5]\n",
      "3\n"
     ]
    }
   ],
   "source": [
    "def get_numbers():\n",
    "    return [1, 2, 3, 4, 5]\n",
    "\n",
    "numbers_list = get_numbers()\n",
    "\n",
    "print(numbers_list)  \n",
    "print(numbers_list[2]) \n"
   ]
  },
  {
   "cell_type": "markdown",
   "id": "7c36b750",
   "metadata": {},
   "source": [
    "Returning Multiple Comma-Separated Values:\n",
    "    \n",
    "Python allows you to return multiple comma-separated values from a function."
   ]
  },
  {
   "cell_type": "code",
   "execution_count": 11,
   "id": "9f123814",
   "metadata": {},
   "outputs": [
    {
     "name": "stdout",
     "output_type": "stream",
     "text": [
      "10.5\n",
      "20.7\n"
     ]
    }
   ],
   "source": [
    "def get_coordinates():\n",
    "    return 10.5, 20.7\n",
    "\n",
    "x, y = get_coordinates()\n",
    "\n",
    "print(x)  \n",
    "print(y)  \n"
   ]
  },
  {
   "cell_type": "markdown",
   "id": "59afbcb2",
   "metadata": {},
   "source": [
    "7.In Python, variables are references to objects in memory. When an argument is passed to a function, the value of the reference (the memory address) is passed, rather than the actual object itself. This creates a distinction between mutable and immutable objects, which affects how modifications made within a function are reflected outside of it.\n",
    "\n",
    "Pass by Value (Immutable Objects):\n",
    "\n",
    "When an immutable object, such as a string, integer, tuple, or frozenset, is passed as an argument to a function, a new copy of the value is created, and this copy is passed to the function. Any modifications made to the argument within the function do not affect the original object."
   ]
  },
  {
   "cell_type": "code",
   "execution_count": 12,
   "id": "1d74c181",
   "metadata": {},
   "outputs": [
    {
     "name": "stdout",
     "output_type": "stream",
     "text": [
      "5\n",
      "6\n"
     ]
    }
   ],
   "source": [
    "def increment_value(num):\n",
    "    num += 1\n",
    "    return num\n",
    "\n",
    "value = 5\n",
    "new_value = increment_value(value)\n",
    "\n",
    "print(value)       \n",
    "print(new_value)   \n"
   ]
  },
  {
   "cell_type": "markdown",
   "id": "eeb68030",
   "metadata": {},
   "source": [
    "Pass by Object Reference (Mutable Objects):\n",
    "\n",
    "When a mutable object, such as a list, dictionary, or set, is passed as an argument to a function, a reference to the object is passed. This means that any modifications made to the object within the function are reflected outside of it."
   ]
  },
  {
   "cell_type": "code",
   "execution_count": 14,
   "id": "9bf5d265",
   "metadata": {},
   "outputs": [
    {
     "name": "stdout",
     "output_type": "stream",
     "text": [
      "[1, 2, 3, 4]\n",
      "[1, 2, 3, 4]\n"
     ]
    }
   ],
   "source": [
    "def append_value(num):\n",
    "    num.append(4)\n",
    "    return num\n",
    "\n",
    "my_list = [1, 2, 3]\n",
    "updated_list = append_value(my_list)\n",
    "\n",
    "print(my_list)       \n",
    "print(updated_list)  \n"
   ]
  },
  {
   "cell_type": "markdown",
   "id": "9c998f1d",
   "metadata": {},
   "source": [
    "8."
   ]
  },
  {
   "cell_type": "code",
   "execution_count": 3,
   "id": "e0bdcd30",
   "metadata": {},
   "outputs": [
    {
     "name": "stdout",
     "output_type": "stream",
     "text": [
      "(1.6094379124341003, 148.4131591025766, 32, 2.23606797749979)\n"
     ]
    }
   ],
   "source": [
    "import math\n",
    "\n",
    "def perform_operations(x):\n",
    "    # Logarithmic function (log x)\n",
    "    log_result = math.log(x)\n",
    "\n",
    "    # Exponential function (exp(x))\n",
    "    exp_result = math.exp(x)\n",
    "\n",
    "    # Power function with base 2 (2**x)\n",
    "    power_result = 2**x\n",
    "\n",
    "    # Square root\n",
    "    sqrt_result = math.sqrt(x)\n",
    "\n",
    "    return log_result, exp_result, power_result, sqrt_result\n",
    "\n",
    "result = perform_operations(5)\n",
    "print(result)\n",
    "\n"
   ]
  },
  {
   "cell_type": "markdown",
   "id": "e2dea4df",
   "metadata": {},
   "source": [
    "9."
   ]
  },
  {
   "cell_type": "code",
   "execution_count": 4,
   "id": "229a2577",
   "metadata": {},
   "outputs": [
    {
     "name": "stdout",
     "output_type": "stream",
     "text": [
      "('Leena', 'Monthero')\n"
     ]
    }
   ],
   "source": [
    "def extract_names(full_name):\n",
    "    name = full_name.split()\n",
    "    first_name = name[0]\n",
    "    last_name = name[-1]\n",
    "    return first_name, last_name\n",
    "\n",
    "result = extract_names(\"Leena Monthero\")\n",
    "print(result)\n",
    "\n"
   ]
  },
  {
   "cell_type": "code",
   "execution_count": null,
   "id": "0b8bdbc4",
   "metadata": {},
   "outputs": [],
   "source": []
  }
 ],
 "metadata": {
  "kernelspec": {
   "display_name": "Python 3 (ipykernel)",
   "language": "python",
   "name": "python3"
  },
  "language_info": {
   "codemirror_mode": {
    "name": "ipython",
    "version": 3
   },
   "file_extension": ".py",
   "mimetype": "text/x-python",
   "name": "python",
   "nbconvert_exporter": "python",
   "pygments_lexer": "ipython3",
   "version": "3.10.9"
  }
 },
 "nbformat": 4,
 "nbformat_minor": 5
}
