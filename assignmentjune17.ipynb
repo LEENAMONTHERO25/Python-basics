{
 "cells": [
  {
   "cell_type": "markdown",
   "id": "397f2d13",
   "metadata": {},
   "source": [
    "1.In Python, the try-except block is used for exception handling. Its role is to handle potential errors or exceptions that may occur during the execution of a program, ensuring that the program can handle exceptional situations without crashing."
   ]
  },
  {
   "cell_type": "markdown",
   "id": "6e966090",
   "metadata": {},
   "source": [
    "2.try:\n",
    "\n",
    "    # Code that may raise an exception\n",
    "    # ...\n",
    "    \n",
    "except ExceptionType:\n",
    "\n",
    "    # Exception handling code\n",
    "    # ...\n"
   ]
  },
  {
   "cell_type": "markdown",
   "id": "f5f515b1",
   "metadata": {},
   "source": [
    "In this syntax:\n",
    "\n",
    "The code that may raise an exception is enclosed within the try block.\n",
    "The except keyword is followed by the specific ExceptionType that we want to catch. This can be a built-in exception class like ZeroDivisionError, ValueError, or a custom exception class.\n",
    "The code to handle the exception is written within the except block, which is executed if an exception of the specified type occurs in the try block."
   ]
  },
  {
   "cell_type": "markdown",
   "id": "b019ccab",
   "metadata": {},
   "source": [
    "3.If an exception occurs inside a try block and there is no matching except block to handle that specific exception, the exception will propagate up the call stack. This means that the program will search for an appropriate except block in the calling code or any higher-level scopes.\n",
    "\n",
    "If the exception is not caught by any except block, the program will terminate abruptly, and an error message called a traceback will be displayed. The traceback provides information about the unhandled exception, including the type of the exception, the line of code where it occurred, and the sequence of calls that led to the exception."
   ]
  },
  {
   "cell_type": "markdown",
   "id": "2a40111f",
   "metadata": {},
   "source": [
    "4.Bare except block: A bare except block catches all types of exceptions. It does not specify a particular exception type to handle, so it acts as a catch-all for any exception that occurs within the try block. While using a bare except block can catch any exception, it can also catch unexpected errors or exceptions that  may not have intended to handle. This can make it challenging to identify and troubleshoot specific issues, as the code will handle all exceptions in the same way.\n",
    "\n",
    "Specific exception type: When specifying a specific exception type in the except block,  explicitly define the type of excep want to catch and handle. This allows us to handle different exceptions in distinct ways, providing more control and specificity in error handling. By catching specific exceptions, we can differentiate between different types of errors and apply appropriate error handling logic."
   ]
  },
  {
   "cell_type": "markdown",
   "id": "3f528fa5",
   "metadata": {},
   "source": [
    "5.Yes, it is possible to have nested try-except blocks in Python."
   ]
  },
  {
   "cell_type": "code",
   "execution_count": 4,
   "id": "cf04507a",
   "metadata": {},
   "outputs": [
    {
     "name": "stdout",
     "output_type": "stream",
     "text": [
      "Enter a number: a\n",
      "Invalid input! Please enter a valid number.\n"
     ]
    }
   ],
   "source": [
    "try:\n",
    "    # Outer try block\n",
    "    num = int(input(\"Enter a number: \"))\n",
    "    \n",
    "    try:\n",
    "        # Inner try block\n",
    "        result = 10 / num\n",
    "        print(\"Result:\", result)\n",
    "    except ZeroDivisionError:\n",
    "        # Inner except block\n",
    "        print(\"Cannot divide by zero!\")\n",
    "    \n",
    "except ValueError:\n",
    "    # Outer except block\n",
    "    print(\"Invalid input! Please enter a valid number.\")\n"
   ]
  },
  {
   "cell_type": "markdown",
   "id": "a435cc2c",
   "metadata": {},
   "source": [
    "6.Yes, it is possible to use multiple except blocks to handle different types of exceptions in Python. "
   ]
  },
  {
   "cell_type": "code",
   "execution_count": 10,
   "id": "cf5ccb9f",
   "metadata": {},
   "outputs": [
    {
     "name": "stdout",
     "output_type": "stream",
     "text": [
      "Enter a number: 0\n",
      "Cannot divide by zero!\n"
     ]
    }
   ],
   "source": [
    "try:\n",
    "    # Code that may raise an exception\n",
    "    x = int(input(\"Enter a number: \"))\n",
    "    result = 10 / x\n",
    "    print(\"Result:\", result)\n",
    "except ValueError:\n",
    "    # Exception handling code for ValueError\n",
    "    print(\"Invalid input! Please enter a valid number.\")\n",
    "except ZeroDivisionError:\n",
    "    # Exception handling code for ZeroDivisionError\n",
    "    print(\"Cannot divide by zero!\")\n",
    "except Exception as e:\n",
    "    # Generic exception handling code\n",
    "    print(\"An error occurred:\", str(e))\n"
   ]
  },
  {
   "cell_type": "markdown",
   "id": "2587aab6",
   "metadata": {},
   "source": [
    "7.a. EOFError: This error occurs when the input() function reaches the end of the file while trying to read user input. It happens when the program expects more input but encounters the end of the file instead.\n",
    "\n",
    "b. FloatingPointError: This error occurs when a floating-point arithmetic operation fails, such as division by zero or an invalid mathematical operation involving floating-point numbers.\n",
    "\n",
    "c. IndexError: This error occurs when an invalid index is used to access an item in a sequence, such as a list or a string. It happens when the index provided is either negative, exceeds the length of the sequence, or the sequence is empty.\n",
    "\n",
    "d. MemoryError: This error occurs when the program runs out of available memory to allocate for new objects or variables. It indicates that the system does not have enough memory resources to fulfill the allocation request.\n",
    "\n",
    "e. OverflowError: This error occurs when the result of a numerical operation exceeds the maximum representable value for a numeric type. It typically occurs in situations like integer overflow or exponentiation operations that result in a value outside the range of the data type.\n",
    "\n",
    "f. TabError: This error occurs when there is an issue with the indentation in Python code. It specifically happens when inconsistent or incorrect use of tabs and spaces for indentation is encountered, violating the Python syntax rules.\n",
    "\n",
    "g. ValueError: This error occurs when a function or operation receives an argument of the correct type but an inappropriate value. It indicates that the input value is invalid or outside the expected range for the operation being performed."
   ]
  },
  {
   "cell_type": "markdown",
   "id": "6f8d9f73",
   "metadata": {},
   "source": [
    "8.a. Program to divide two numbers:"
   ]
  },
  {
   "cell_type": "code",
   "execution_count": 11,
   "id": "2205aa90",
   "metadata": {},
   "outputs": [
    {
     "name": "stdout",
     "output_type": "stream",
     "text": [
      "Enter the dividend: 12\n",
      "Enter the divisor: 34\n",
      "Result: 0.35294117647058826\n"
     ]
    }
   ],
   "source": [
    "try:\n",
    "    dividend = int(input(\"Enter the dividend: \"))\n",
    "    divisor = int(input(\"Enter the divisor: \"))\n",
    "    result = dividend / divisor\n",
    "    print(\"Result:\", result)\n",
    "except ZeroDivisionError:\n",
    "    print(\"Error: Cannot divide by zero!\")\n"
   ]
  },
  {
   "cell_type": "markdown",
   "id": "20d42c3c",
   "metadata": {},
   "source": [
    "b.Program to convert a string to an integer:"
   ]
  },
  {
   "cell_type": "code",
   "execution_count": 21,
   "id": "dd7d90ce",
   "metadata": {},
   "outputs": [
    {
     "name": "stdout",
     "output_type": "stream",
     "text": [
      "Enter a number: 123\n",
      "<class 'str'>\n",
      "Number: 123\n"
     ]
    }
   ],
   "source": [
    "try:\n",
    "    string_num = input(\"Enter a number: \")\n",
    "    \n",
    "    num = int(string_num)\n",
    "    print(\"Number:\", num)\n",
    "except ValueError:\n",
    "    print(\"Error: Invalid number format!\")\n"
   ]
  },
  {
   "cell_type": "markdown",
   "id": "3d2b7c33",
   "metadata": {},
   "source": [
    "c. Program to access an element in a list:"
   ]
  },
  {
   "cell_type": "code",
   "execution_count": 17,
   "id": "d1002d4a",
   "metadata": {},
   "outputs": [
    {
     "name": "stdout",
     "output_type": "stream",
     "text": [
      "Enter the index: 7\n",
      "Error: Invalid index!\n"
     ]
    }
   ],
   "source": [
    "try:\n",
    "    my_list = [1, 2, 3, 4, 5]\n",
    "    index = int(input(\"Enter the index: \"))\n",
    "    value = my_list[index]\n",
    "    print(\"Value at index\", index, \":\", value)\n",
    "except IndexError:\n",
    "    print(\"Error: Invalid index!\")\n"
   ]
  },
  {
   "cell_type": "markdown",
   "id": "0a260751",
   "metadata": {},
   "source": [
    "d. Program to handle a specific exception:"
   ]
  },
  {
   "cell_type": "code",
   "execution_count": 18,
   "id": "abebf210",
   "metadata": {},
   "outputs": [
    {
     "name": "stdout",
     "output_type": "stream",
     "text": [
      "Enter a number: 0\n",
      "Error: Cannot divide by zero!\n"
     ]
    }
   ],
   "source": [
    "try:\n",
    "    num = int(input(\"Enter a number: \"))\n",
    "    result = 10 / num\n",
    "    print(\"Result:\", result)\n",
    "except ZeroDivisionError:\n",
    "    print(\"Error: Cannot divide by zero!\")\n",
    "except ValueError:\n",
    "    print(\"Error: Invalid input!\")\n"
   ]
  },
  {
   "cell_type": "markdown",
   "id": "076f1323",
   "metadata": {},
   "source": [
    "e. Program to handle any exception:"
   ]
  },
  {
   "cell_type": "code",
   "execution_count": 20,
   "id": "d8f9c34b",
   "metadata": {},
   "outputs": [
    {
     "name": "stdout",
     "output_type": "stream",
     "text": [
      "Enter a number: 0\n",
      "An error occurred: division by zero\n"
     ]
    }
   ],
   "source": [
    "try:\n",
    "    num = int(input(\"Enter a number: \"))\n",
    "    result = 10 / num\n",
    "    print(\"Result:\", result)\n",
    "except Exception as e:\n",
    "    print(\"An error occurred:\", str(e))\n"
   ]
  },
  {
   "cell_type": "code",
   "execution_count": null,
   "id": "0f669b31",
   "metadata": {},
   "outputs": [],
   "source": []
  }
 ],
 "metadata": {
  "kernelspec": {
   "display_name": "Python 3 (ipykernel)",
   "language": "python",
   "name": "python3"
  },
  "language_info": {
   "codemirror_mode": {
    "name": "ipython",
    "version": 3
   },
   "file_extension": ".py",
   "mimetype": "text/x-python",
   "name": "python",
   "nbconvert_exporter": "python",
   "pygments_lexer": "ipython3",
   "version": "3.10.9"
  }
 },
 "nbformat": 4,
 "nbformat_minor": 5
}
