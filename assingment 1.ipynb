{
 "cells": [
  {
   "cell_type": "markdown",
   "id": "733b403a",
   "metadata": {},
   "source": [
    " 1. \n",
    "  * --------- expression\n",
    "'hello'-------value\n",
    "-87.8---- ----value\n",
    "-  -----------expression\n",
    "/-------------expression\n",
    "+-------------expression\n",
    "6-------------value\n",
    "\n"
   ]
  },
  {
   "cell_type": "markdown",
   "id": "cb7fa623",
   "metadata": {},
   "source": [
    "2. difference between string and variable\n",
    "string :  string is a data type used to represent textual data enclosed within either single('')and double(\"\") quotation marks.\n",
    "variable: variable is a named container that can hold any kind of data.\n",
    "example: a=5\n",
    "         b='hello'\n",
    "         here a,b are variables.-\n",
    "         5-integer\n",
    "         'hello'-string\n",
    "         \n"
   ]
  },
  {
   "cell_type": "markdown",
   "id": "c5fdcc27",
   "metadata": {},
   "source": [
    "3.three different data types\n",
    "    1. integer\n",
    "    2. boolean\n",
    "    3. float\n",
    "Integer: integer represents whole number without decimal point.it can be negative,positive or zero.\n",
    "example: a=1\n",
    "         b=-2\n",
    "         c=0\n",
    "Boolean:A boolean datatype with two values.True and False.\n",
    "    example: 1.is_raining=True\n",
    "             2.is_sunny=False\n",
    "float:float datatype is used to represent the decimal numbers.\n",
    "example : a=12.6\n",
    "          b=34.7\n",
    "    \n",
    "    \n",
    "    "
   ]
  },
  {
   "cell_type": "markdown",
   "id": "1467adc8",
   "metadata": {},
   "source": [
    "4.An expression is a combination of variables,constants,operators and function calls that produces a value.\n",
    "The expressions are evaluated based on the values of the variables and constants, and they produce a result.\n",
    "example:\n",
    "    x=2\n",
    "    y=4\n",
    "    result=x+y*2\n",
    "    print(result)"
   ]
  },
  {
   "cell_type": "markdown",
   "id": "7f536e60",
   "metadata": {},
   "source": [
    "5. spam=10 is the statement.here 'spam 'is the variable and 10 is value.\n",
    "expressions are used to produce the values and are composed of operators,variables and functions calls.\n",
    "statements are perform actions ,control the program flow and modify the program state.they are complete lines of code."
   ]
  },
  {
   "cell_type": "code",
   "execution_count": 2,
   "id": "00956e66",
   "metadata": {},
   "outputs": [
    {
     "data": {
      "text/plain": [
       "23"
      ]
     },
     "execution_count": 2,
     "metadata": {},
     "output_type": "execute_result"
    }
   ],
   "source": [
    "6. bacon=22\n",
    "   bacon+1\n"
   ]
  },
  {
   "cell_type": "code",
   "execution_count": 4,
   "id": "a2e5b7ae",
   "metadata": {},
   "outputs": [
    {
     "data": {
      "text/plain": [
       "'spamspamspam'"
      ]
     },
     "execution_count": 4,
     "metadata": {},
     "output_type": "execute_result"
    }
   ],
   "source": [
    "7.'spam'+'spamspam'\n"
   ]
  },
  {
   "cell_type": "code",
   "execution_count": 5,
   "id": "15293358",
   "metadata": {},
   "outputs": [
    {
     "data": {
      "text/plain": [
       "'spamspamspam'"
      ]
     },
     "execution_count": 5,
     "metadata": {},
     "output_type": "execute_result"
    }
   ],
   "source": [
    "'spam'*3"
   ]
  },
  {
   "cell_type": "code",
   "execution_count": null,
   "id": "cd7f8cb0",
   "metadata": {},
   "outputs": [],
   "source": []
  },
  {
   "cell_type": "markdown",
   "id": "44f8400b",
   "metadata": {},
   "source": [
    "8.variable names must have certain rules.variable names can consists of letters(a-z,A-Z),digits(0-9) ,\n",
    "and underscores(_).they must start with a letter or an underscore.they are case-sensitive.\n",
    "Based on these rules 'eggs' is a valid variable name because it starts with a letter and only contains lowercase letters.\n",
    "'100' is invalid variable name because it starts with a digit.\n"
   ]
  },
  {
   "cell_type": "markdown",
   "id": "78027861",
   "metadata": {},
   "source": [
    "9. 1.int() : this function converts a value to an integer.\n",
    "   2.float(): this function coverts a value to a floating_point number.\n",
    "   3.str(): this function converts a value to its string representation.\n"
   ]
  },
  {
   "cell_type": "code",
   "execution_count": 6,
   "id": "50957703",
   "metadata": {},
   "outputs": [
    {
     "name": "stdout",
     "output_type": "stream",
     "text": [
      "34\n"
     ]
    }
   ],
   "source": [
    "value=\"34\"\n",
    "integer=int(value)\n",
    "print(integer)"
   ]
  },
  {
   "cell_type": "code",
   "execution_count": 8,
   "id": "23c52c12",
   "metadata": {},
   "outputs": [
    {
     "name": "stdout",
     "output_type": "stream",
     "text": [
      "54.8\n"
     ]
    }
   ],
   "source": [
    "value=\"54.8\"\n",
    "floating_point=float(value)\n",
    "print(floating_point)"
   ]
  },
  {
   "cell_type": "code",
   "execution_count": 9,
   "id": "30f9adb8",
   "metadata": {},
   "outputs": [
    {
     "name": "stdout",
     "output_type": "stream",
     "text": [
      "67\n"
     ]
    }
   ],
   "source": [
    "value=67\n",
    "string=str(value)\n",
    "print(string)"
   ]
  },
  {
   "cell_type": "markdown",
   "id": "5118e861",
   "metadata": {},
   "source": [
    "10. 'I have eaten'+99+'burritos' this cause error because here we are trying to concatenate a string with an integer value\n",
    "directly, without  converting the integer to a string. we can fix this."
   ]
  },
  {
   "cell_type": "code",
   "execution_count": 13,
   "id": "93ece99a",
   "metadata": {},
   "outputs": [
    {
     "name": "stdout",
     "output_type": "stream",
     "text": [
      "I have eaten 99 burritos\n"
     ]
    }
   ],
   "source": [
    "result='I have eaten ' + str(99) + ' burritos'\n",
    "print(result)"
   ]
  },
  {
   "cell_type": "code",
   "execution_count": null,
   "id": "281a907f",
   "metadata": {},
   "outputs": [],
   "source": []
  }
 ],
 "metadata": {
  "kernelspec": {
   "display_name": "Python 3 (ipykernel)",
   "language": "python",
   "name": "python3"
  },
  "language_info": {
   "codemirror_mode": {
    "name": "ipython",
    "version": 3
   },
   "file_extension": ".py",
   "mimetype": "text/x-python",
   "name": "python",
   "nbconvert_exporter": "python",
   "pygments_lexer": "ipython3",
   "version": "3.10.9"
  }
 },
 "nbformat": 4,
 "nbformat_minor": 5
}
